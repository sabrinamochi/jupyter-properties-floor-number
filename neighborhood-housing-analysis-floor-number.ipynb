{
 "cells": [
  {
   "cell_type": "markdown",
   "metadata": {},
   "source": [
    "# How lucky and unlucky numbers can play a vital role in determining your property values "
   ]
  },
  {
   "cell_type": "markdown",
   "metadata": {},
   "source": [
    "Numerical superstitious beliefs are wide spread in Asian countries and have a powerful impact in decision-making, from choosing a license plate or mobile number to making momentous decisions, such as buying a house. People who have been immersed in Asian culture tend to believe that things associated with the \"lucky numbers\" can also bring them good luck.\n",
    "\n",
    "For example eight is considered the luckiest number because it sounds like \"wealth\" in Chinese. Four, on the other side, is often deemed as an inauspicious number because it sounds like the Chinese word for death. \n",
    "\n",
    "With the surge of Chinese buyers in the U.S. housing market, properties related to auspicious numbers might be more appealing to buyers, and vice versa. I want to examine the U.S. housing data to see whether the street number or the apartment number could affect the property values. My hypothesis is that in markets with more ethnic Chinese and Taiwanese buyers, average price of houses with street addresses ending or starting with the unlucky number four will be lower while that with the lucky number eight will be higher.\n",
    "\n",
    "data source: https://www1.nyc.gov/site/finance/taxes/property-annualized-sales-update.page\n",
    "\n",
    "To see the same analysis done on one family dewellings in New York, please go to this link: https://nbviewer.jupyter.org/github/sabrinamochi/jupyter-properties-addr-number/blob/master/neighborhood-housing-analysis-addr-number.ipynb"
   ]
  },
  {
   "cell_type": "code",
   "execution_count": 199,
   "metadata": {},
   "outputs": [],
   "source": [
    "import pandas as pd\n",
    "import re\n",
    "from pandas.api.types import is_string_dtype\n",
    "import matplotlib.pyplot as plt\n",
    "import seaborn as sns\n",
    "import plotly.express as px\n",
    "%matplotlib inline\n",
    "plt.style.use('fivethirtyeight')\n",
    "sns.set(style=\"whitegrid\")"
   ]
  },
  {
   "cell_type": "markdown",
   "metadata": {},
   "source": [
    "I decided to focus on New York in my initial analysis. \n",
    "\n",
    "New York is an ideal setting for this project because it has been destinations for Chinese immigrants since the 1830s and home to the largest ethnic Chinese population in the United States. \n",
    "\n",
    "I analyzed housing data between 2012 and 2019 from NYC department of Finance. "
   ]
  },
  {
   "cell_type": "code",
   "execution_count": 213,
   "metadata": {},
   "outputs": [],
   "source": [
    "years = [\"2012\", \"2013\", \"2014\", \"2016\", \"2017\", \"2018\", \"2019\"]\n",
    "\n",
    "si = pd.read_excel(\"nyc-gov-rolling-sales-data/2015_statenisland.xls\", header=4)\n",
    "bx = pd.read_excel(\"nyc-gov-rolling-sales-data/2015_bronx.xls\", header=4)\n",
    "bk = pd.read_excel(\"nyc-gov-rolling-sales-data/2015_brooklyn.xls\", header=4)\n",
    "mt = pd.read_excel(\"nyc-gov-rolling-sales-data/2015_manhattan.xls\", header=4)\n",
    "qn = pd.read_excel(\"nyc-gov-rolling-sales-data/2015_queens.xls\", header=4)\n",
    "df_o = pd.concat([si, bx, bk, mt, qn]).reset_index(drop=True)\n",
    "    \n",
    "for i in years:\n",
    "    if i == \"2018\" or i == \"2019\": \n",
    "        si = pd.read_excel(\"nyc-gov-rolling-sales-data/\"+ i + \"_statenisland.xlsx\", header=4)\n",
    "        bx = pd.read_excel(\"nyc-gov-rolling-sales-data/\"+ i + \"_bronx.xlsx\", header=4)\n",
    "        bk = pd.read_excel(\"nyc-gov-rolling-sales-data/\"+ i + \"_brooklyn.xlsx\", header=4)\n",
    "        mt = pd.read_excel(\"nyc-gov-rolling-sales-data/\"+ i + \"_manhattan.xlsx\", header=4)\n",
    "        qn = pd.read_excel(\"nyc-gov-rolling-sales-data/\"+ i + \"_queens.xlsx\", header=4)\n",
    "    else: \n",
    "        si = pd.read_excel(\"nyc-gov-rolling-sales-data/\"+ i + \"_statenisland.xls\", header=4)\n",
    "        bx = pd.read_excel(\"nyc-gov-rolling-sales-data/\"+ i +\"_bronx.xls\", header=4)\n",
    "        bk = pd.read_excel(\"nyc-gov-rolling-sales-data/\"+ i +\"_brooklyn.xls\", header=4)\n",
    "        mt = pd.read_excel(\"nyc-gov-rolling-sales-data/\"+ i +\"_manhattan.xls\", header=4)\n",
    "        qn = pd.read_excel(\"nyc-gov-rolling-sales-data/\"+ i +\"_queens.xls\", header=4)\n",
    "\n",
    "    df_o = pd.concat([df_o, si, bx, bk, mt, qn]).reset_index(drop=True)"
   ]
  },
  {
   "cell_type": "code",
   "execution_count": 214,
   "metadata": {},
   "outputs": [
    {
     "data": {
      "text/html": [
       "<div>\n",
       "<style scoped>\n",
       "    .dataframe tbody tr th:only-of-type {\n",
       "        vertical-align: middle;\n",
       "    }\n",
       "\n",
       "    .dataframe tbody tr th {\n",
       "        vertical-align: top;\n",
       "    }\n",
       "\n",
       "    .dataframe thead th {\n",
       "        text-align: right;\n",
       "    }\n",
       "</style>\n",
       "<table border=\"1\" class=\"dataframe\">\n",
       "  <thead>\n",
       "    <tr style=\"text-align: right;\">\n",
       "      <th></th>\n",
       "      <th>BOROUGH\\n</th>\n",
       "      <th>NEIGHBORHOOD\\n</th>\n",
       "      <th>BUILDING CLASS CATEGORY\\n</th>\n",
       "      <th>TAX CLASS AT PRESENT\\n</th>\n",
       "      <th>BLOCK\\n</th>\n",
       "      <th>LOT\\n</th>\n",
       "      <th>EASE-MENT\\n</th>\n",
       "      <th>BUILDING CLASS AT PRESENT\\n</th>\n",
       "      <th>ADDRESS\\n</th>\n",
       "      <th>APARTMENT NUMBER\\n</th>\n",
       "      <th>...</th>\n",
       "      <th>GROSS SQUARE FEET</th>\n",
       "      <th>YEAR BUILT</th>\n",
       "      <th>TAX CLASS AT TIME OF SALE</th>\n",
       "      <th>BUILDING CLASS AT TIME OF SALE</th>\n",
       "      <th>SALE PRICE</th>\n",
       "      <th>SALE DATE</th>\n",
       "      <th>TAX CLASS AS OF FINAL ROLL 17/18</th>\n",
       "      <th>BUILDING CLASS AS OF FINAL ROLL 17/18</th>\n",
       "      <th>TAX CLASS AS OF FINAL ROLL 18/19</th>\n",
       "      <th>BUILDING CLASS AS OF FINAL ROLL 18/19</th>\n",
       "    </tr>\n",
       "  </thead>\n",
       "  <tbody>\n",
       "    <tr>\n",
       "      <th>0</th>\n",
       "      <td>5.0</td>\n",
       "      <td>ANNADALE</td>\n",
       "      <td>01  ONE FAMILY DWELLINGS</td>\n",
       "      <td>1</td>\n",
       "      <td>5394.0</td>\n",
       "      <td>4.0</td>\n",
       "      <td></td>\n",
       "      <td>A2</td>\n",
       "      <td>26 FINGAL STREET</td>\n",
       "      <td></td>\n",
       "      <td>...</td>\n",
       "      <td>NaN</td>\n",
       "      <td>NaN</td>\n",
       "      <td>NaN</td>\n",
       "      <td>NaN</td>\n",
       "      <td>NaN</td>\n",
       "      <td>NaT</td>\n",
       "      <td>NaN</td>\n",
       "      <td>NaN</td>\n",
       "      <td>NaN</td>\n",
       "      <td>NaN</td>\n",
       "    </tr>\n",
       "    <tr>\n",
       "      <th>1</th>\n",
       "      <td>5.0</td>\n",
       "      <td>ANNADALE</td>\n",
       "      <td>01  ONE FAMILY DWELLINGS</td>\n",
       "      <td>1</td>\n",
       "      <td>5397.0</td>\n",
       "      <td>51.0</td>\n",
       "      <td></td>\n",
       "      <td>A1</td>\n",
       "      <td>23 EYLANDT STREET</td>\n",
       "      <td></td>\n",
       "      <td>...</td>\n",
       "      <td>NaN</td>\n",
       "      <td>NaN</td>\n",
       "      <td>NaN</td>\n",
       "      <td>NaN</td>\n",
       "      <td>NaN</td>\n",
       "      <td>NaT</td>\n",
       "      <td>NaN</td>\n",
       "      <td>NaN</td>\n",
       "      <td>NaN</td>\n",
       "      <td>NaN</td>\n",
       "    </tr>\n",
       "    <tr>\n",
       "      <th>2</th>\n",
       "      <td>5.0</td>\n",
       "      <td>ANNADALE</td>\n",
       "      <td>01  ONE FAMILY DWELLINGS</td>\n",
       "      <td>1</td>\n",
       "      <td>5401.0</td>\n",
       "      <td>5.0</td>\n",
       "      <td></td>\n",
       "      <td>A2</td>\n",
       "      <td>28 JANSEN STREET</td>\n",
       "      <td></td>\n",
       "      <td>...</td>\n",
       "      <td>NaN</td>\n",
       "      <td>NaN</td>\n",
       "      <td>NaN</td>\n",
       "      <td>NaN</td>\n",
       "      <td>NaN</td>\n",
       "      <td>NaT</td>\n",
       "      <td>NaN</td>\n",
       "      <td>NaN</td>\n",
       "      <td>NaN</td>\n",
       "      <td>NaN</td>\n",
       "    </tr>\n",
       "    <tr>\n",
       "      <th>3</th>\n",
       "      <td>5.0</td>\n",
       "      <td>ANNADALE</td>\n",
       "      <td>01  ONE FAMILY DWELLINGS</td>\n",
       "      <td>1</td>\n",
       "      <td>5402.0</td>\n",
       "      <td>43.0</td>\n",
       "      <td></td>\n",
       "      <td>A1</td>\n",
       "      <td>295 HAROLD AVENUE</td>\n",
       "      <td></td>\n",
       "      <td>...</td>\n",
       "      <td>NaN</td>\n",
       "      <td>NaN</td>\n",
       "      <td>NaN</td>\n",
       "      <td>NaN</td>\n",
       "      <td>NaN</td>\n",
       "      <td>NaT</td>\n",
       "      <td>NaN</td>\n",
       "      <td>NaN</td>\n",
       "      <td>NaN</td>\n",
       "      <td>NaN</td>\n",
       "    </tr>\n",
       "    <tr>\n",
       "      <th>4</th>\n",
       "      <td>5.0</td>\n",
       "      <td>ANNADALE</td>\n",
       "      <td>01  ONE FAMILY DWELLINGS</td>\n",
       "      <td>1</td>\n",
       "      <td>5404.0</td>\n",
       "      <td>46.0</td>\n",
       "      <td></td>\n",
       "      <td>A1</td>\n",
       "      <td>119 LENZIE STREET</td>\n",
       "      <td></td>\n",
       "      <td>...</td>\n",
       "      <td>NaN</td>\n",
       "      <td>NaN</td>\n",
       "      <td>NaN</td>\n",
       "      <td>NaN</td>\n",
       "      <td>NaN</td>\n",
       "      <td>NaT</td>\n",
       "      <td>NaN</td>\n",
       "      <td>NaN</td>\n",
       "      <td>NaN</td>\n",
       "      <td>NaN</td>\n",
       "    </tr>\n",
       "  </tbody>\n",
       "</table>\n",
       "<p>5 rows × 46 columns</p>\n",
       "</div>"
      ],
      "text/plain": [
       "   BOROUGH\\n             NEIGHBORHOOD\\n  \\\n",
       "0        5.0  ANNADALE                    \n",
       "1        5.0  ANNADALE                    \n",
       "2        5.0  ANNADALE                    \n",
       "3        5.0  ANNADALE                    \n",
       "4        5.0  ANNADALE                    \n",
       "\n",
       "                      BUILDING CLASS CATEGORY\\n TAX CLASS AT PRESENT\\n  \\\n",
       "0  01  ONE FAMILY DWELLINGS                                          1   \n",
       "1  01  ONE FAMILY DWELLINGS                                          1   \n",
       "2  01  ONE FAMILY DWELLINGS                                          1   \n",
       "3  01  ONE FAMILY DWELLINGS                                          1   \n",
       "4  01  ONE FAMILY DWELLINGS                                          1   \n",
       "\n",
       "   BLOCK\\n  LOT\\n EASE-MENT\\n BUILDING CLASS AT PRESENT\\n  \\\n",
       "0   5394.0    4.0                                      A2   \n",
       "1   5397.0   51.0                                      A1   \n",
       "2   5401.0    5.0                                      A2   \n",
       "3   5402.0   43.0                                      A1   \n",
       "4   5404.0   46.0                                      A1   \n",
       "\n",
       "                                   ADDRESS\\n APARTMENT NUMBER\\n  ...  \\\n",
       "0  26 FINGAL STREET                                              ...   \n",
       "1  23 EYLANDT STREET                                             ...   \n",
       "2  28 JANSEN STREET                                              ...   \n",
       "3  295 HAROLD AVENUE                                             ...   \n",
       "4  119 LENZIE STREET                                             ...   \n",
       "\n",
       "   GROSS SQUARE FEET  YEAR BUILT  TAX CLASS AT TIME OF SALE  \\\n",
       "0                NaN         NaN                        NaN   \n",
       "1                NaN         NaN                        NaN   \n",
       "2                NaN         NaN                        NaN   \n",
       "3                NaN         NaN                        NaN   \n",
       "4                NaN         NaN                        NaN   \n",
       "\n",
       "   BUILDING CLASS AT TIME OF SALE  SALE PRICE  SALE DATE  \\\n",
       "0                             NaN         NaN        NaT   \n",
       "1                             NaN         NaN        NaT   \n",
       "2                             NaN         NaN        NaT   \n",
       "3                             NaN         NaN        NaT   \n",
       "4                             NaN         NaN        NaT   \n",
       "\n",
       "   TAX CLASS AS OF FINAL ROLL 17/18  BUILDING CLASS AS OF FINAL ROLL 17/18  \\\n",
       "0                               NaN                                    NaN   \n",
       "1                               NaN                                    NaN   \n",
       "2                               NaN                                    NaN   \n",
       "3                               NaN                                    NaN   \n",
       "4                               NaN                                    NaN   \n",
       "\n",
       "  TAX CLASS AS OF FINAL ROLL 18/19  BUILDING CLASS AS OF FINAL ROLL 18/19  \n",
       "0                              NaN                                    NaN  \n",
       "1                              NaN                                    NaN  \n",
       "2                              NaN                                    NaN  \n",
       "3                              NaN                                    NaN  \n",
       "4                              NaN                                    NaN  \n",
       "\n",
       "[5 rows x 46 columns]"
      ]
     },
     "execution_count": 214,
     "metadata": {},
     "output_type": "execute_result"
    }
   ],
   "source": [
    "df_o.head()"
   ]
  },
  {
   "cell_type": "code",
   "execution_count": 215,
   "metadata": {
    "scrolled": true
   },
   "outputs": [],
   "source": [
    "df_o.columns = [k.replace('\\n', '') for k in df_o.columns]"
   ]
  },
  {
   "cell_type": "code",
   "execution_count": 238,
   "metadata": {},
   "outputs": [],
   "source": [
    "df = df_o.copy()"
   ]
  },
  {
   "cell_type": "code",
   "execution_count": 239,
   "metadata": {},
   "outputs": [
    {
     "name": "stdout",
     "output_type": "stream",
     "text": [
      "Number of records: (773881, 46)\n"
     ]
    }
   ],
   "source": [
    "print(\"Number of records: \" + str(df_o.shape))"
   ]
  },
  {
   "cell_type": "code",
   "execution_count": 240,
   "metadata": {},
   "outputs": [],
   "source": [
    "df = df.loc[:, ~df.columns.duplicated()]"
   ]
  },
  {
   "cell_type": "code",
   "execution_count": 241,
   "metadata": {},
   "outputs": [
    {
     "data": {
      "text/plain": [
       "array(['01  ONE FAMILY DWELLINGS                    ',\n",
       "       '02  TWO FAMILY DWELLINGS                    ',\n",
       "       '05  TAX CLASS 1 VACANT LAND                 ',\n",
       "       '06  TAX CLASS 1 - OTHER                     ',\n",
       "       '21  OFFICE BUILDINGS                        ',\n",
       "       '36  OUTDOOR RECREATIONAL FACILITIES         ',\n",
       "       '04  TAX CLASS 1 CONDOS                      ',\n",
       "       '03  THREE FAMILY DWELLINGS                  ',\n",
       "       '07  RENTALS - WALKUP APARTMENTS             ',\n",
       "       '31  COMMERCIAL VACANT LAND                  ',\n",
       "       '32  HOSPITAL AND HEALTH FACILITIES          ',\n",
       "       '10  COOPS - ELEVATOR APARTMENTS             ',\n",
       "       '13  CONDOS - ELEVATOR APARTMENTS            ',\n",
       "       '29  COMMERCIAL GARAGES                      ',\n",
       "       '39  TRANSPORTATION FACILITIES               ',\n",
       "       '41  TAX CLASS 4 - OTHER                     ',\n",
       "       '22  STORE BUILDINGS                         ',\n",
       "       '14  RENTALS - 4-10 UNIT                     ',\n",
       "       '27  FACTORIES                               ',\n",
       "       '09  COOPS - WALKUP APARTMENTS               ',\n",
       "       '12  CONDOS - WALKUP APARTMENTS              ',\n",
       "       '08  RENTALS - ELEVATOR APARTMENTS           ',\n",
       "       '43  CONDO OFFICE BUILDINGS                  ',\n",
       "       '15  CONDOS - 2-10 UNIT RESIDENTIAL          ',\n",
       "       '30  WAREHOUSES                              ',\n",
       "       '18  TAX CLASS 3 - UNTILITY PROPERTIES       ',\n",
       "       '28  COMMERCIAL CONDOS                       ',\n",
       "       '46  CONDO STORE BUILDINGS                   ',\n",
       "       '11  SPECIAL CONDO BILLING LOTS              ',\n",
       "       '33  EDUCATIONAL FACILITIES                  ',\n",
       "       '37  RELIGIOUS FACILITIES                    ',\n",
       "       '44  CONDO PARKING                           ',\n",
       "       '17  CONDO COOPS                             ',\n",
       "       '35  INDOOR PUBLIC AND CULTURAL FACILITIES   ',\n",
       "       '26  OTHER HOTELS                            ',\n",
       "       '11A CONDO-RENTALS                           ',\n",
       "       '38  ASYLUMS AND HOMES                       ',\n",
       "       '34  THEATRES                                ',\n",
       "       '40  SELECTED GOVERNMENTAL FACILITIES        ',\n",
       "       '16  CONDOS - 2-10 UNIT WITH COMMERCIAL UNIT ',\n",
       "       '42  CONDO CULTURAL/MEDICAL/EDUCATIONAL/ETC  ',\n",
       "       '47  CONDO NON-BUSINESS STORAGE              ',\n",
       "       '23  LOFT BUILDINGS                          ',\n",
       "       '48  CONDO TERRACES/GARDENS/CABANAS          ',\n",
       "       '49  CONDO WAREHOUSES/FACTORY/INDUS          ',\n",
       "       '25  LUXURY HOTELS                           ',\n",
       "       '24  TAX CLASS 4 - UTILITY BUREAU PROPERTIES ',\n",
       "       '45  CONDO HOTELS                            ', nan,\n",
       "       '01  ONE FAMILY HOMES                        ',\n",
       "       '02  TWO FAMILY HOMES                        ',\n",
       "       '03  THREE FAMILY HOMES                      ',\n",
       "       '                                            ',\n",
       "       '18  TAX CLASS 3 - UTILITY PROPERTIES        ',\n",
       "       '17  CONDOPS                                 ',\n",
       "       '01 ONE FAMILY DWELLINGS                    ',\n",
       "       '02 TWO FAMILY DWELLINGS                    ',\n",
       "       '05 TAX CLASS 1 VACANT LAND                 ',\n",
       "       '06 TAX CLASS 1 - OTHER                     ',\n",
       "       '07 RENTALS - WALKUP APARTMENTS             ',\n",
       "       '21 OFFICE BUILDINGS                        ',\n",
       "       '22 STORE BUILDINGS                         ',\n",
       "       '46 CONDO STORE BUILDINGS                   ',\n",
       "       '04 TAX CLASS 1 CONDOS                      ',\n",
       "       '14 RENTALS - 4-10 UNIT                     ',\n",
       "       '29 COMMERCIAL GARAGES                      ',\n",
       "       '03 THREE FAMILY DWELLINGS                  ',\n",
       "       '10 COOPS - ELEVATOR APARTMENTS             ',\n",
       "       '13 CONDOS - ELEVATOR APARTMENTS            ',\n",
       "       '30 WAREHOUSES                              ',\n",
       "       '31 COMMERCIAL VACANT LAND                  ',\n",
       "       '37 RELIGIOUS FACILITIES                    ',\n",
       "       '12 CONDOS - WALKUP APARTMENTS              ',\n",
       "       '09 COOPS - WALKUP APARTMENTS               ',\n",
       "       '41 TAX CLASS 4 - OTHER                     ',\n",
       "       '33 EDUCATIONAL FACILITIES                  ',\n",
       "       '08 RENTALS - ELEVATOR APARTMENTS           ',\n",
       "       '39 TRANSPORTATION FACILITIES               ',\n",
       "       '44 CONDO PARKING                           ',\n",
       "       '15 CONDOS - 2-10 UNIT RESIDENTIAL          ',\n",
       "       '16 CONDOS - 2-10 UNIT WITH COMMERCIAL UNIT ',\n",
       "       '27 FACTORIES                               ',\n",
       "       '43 CONDO OFFICE BUILDINGS                  ',\n",
       "       '34 THEATRES                                ',\n",
       "       '26 OTHER HOTELS                            ',\n",
       "       '17 CONDO COOPS                             ',\n",
       "       '32 HOSPITAL AND HEALTH FACILITIES          ',\n",
       "       '35 INDOOR PUBLIC AND CULTURAL FACILITIES   ',\n",
       "       '36 OUTDOOR RECREATIONAL FACILITIES         ',\n",
       "       '38 ASYLUMS AND HOMES                       ',\n",
       "       '40 SELECTED GOVERNMENTAL FACILITIES        ',\n",
       "       '47 CONDO NON-BUSINESS STORAGE              ',\n",
       "       '48 CONDO TERRACES/GARDENS/CABANAS          ',\n",
       "       '49 CONDO WAREHOUSES/FACTORY/INDUS          ',\n",
       "       '28 COMMERCIAL CONDOS                       ',\n",
       "       '42 CONDO CULTURAL/MEDICAL/EDUCATIONAL/ETC  ',\n",
       "       '23 LOFT BUILDINGS                          ',\n",
       "       '45 CONDO HOTELS                            ',\n",
       "       '25 LUXURY HOTELS                           ',\n",
       "       '11 SPECIAL CONDO BILLING LOTS              ',\n",
       "       '01 ONE FAMILY DWELLINGS', '02 TWO FAMILY DWELLINGS',\n",
       "       '05 TAX CLASS 1 VACANT LAND', '06 TAX CLASS 1 - OTHER',\n",
       "       '21 OFFICE BUILDINGS', '46 CONDO STORE BUILDINGS',\n",
       "       '04 TAX CLASS 1 CONDOS', '03 THREE FAMILY DWELLINGS',\n",
       "       '07 RENTALS - WALKUP APARTMENTS', '14 RENTALS - 4-10 UNIT',\n",
       "       '31 COMMERCIAL VACANT LAND', '10 COOPS - ELEVATOR APARTMENTS',\n",
       "       '13 CONDOS - ELEVATOR APARTMENTS', '30 WAREHOUSES',\n",
       "       '22 STORE BUILDINGS', '43 CONDO OFFICE BUILDINGS', '27 FACTORIES',\n",
       "       '09 COOPS - WALKUP APARTMENTS', '08 RENTALS - ELEVATOR APARTMENTS',\n",
       "       '12 CONDOS - WALKUP APARTMENTS', '29 COMMERCIAL GARAGES',\n",
       "       '33 EDUCATIONAL FACILITIES', '32 HOSPITAL AND HEALTH FACILITIES',\n",
       "       '39 TRANSPORTATION FACILITIES',\n",
       "       '15 CONDOS - 2-10 UNIT RESIDENTIAL',\n",
       "       '16 CONDOS - 2-10 UNIT WITH COMMERCIAL UNIT', '44 CONDO PARKING',\n",
       "       '41 TAX CLASS 4 - OTHER',\n",
       "       '35 INDOOR PUBLIC AND CULTURAL FACILITIES',\n",
       "       '37 RELIGIOUS FACILITIES', '38 ASYLUMS AND HOMES',\n",
       "       '28 COMMERCIAL CONDOS', '26 OTHER HOTELS',\n",
       "       '42 CONDO CULTURAL/MEDICAL/EDUCATIONAL/ETC', '11A CONDO-RENTALS',\n",
       "       '17 CONDO COOPS', '47 CONDO NON-BUSINESS STORAGE',\n",
       "       '36 OUTDOOR RECREATIONAL FACILITIES',\n",
       "       '48 CONDO TERRACES/GARDENS/CABANAS', '23 LOFT BUILDINGS',\n",
       "       '25 LUXURY HOTELS', '45 CONDO HOTELS',\n",
       "       '49 CONDO WAREHOUSES/FACTORY/INDUS', '34 THEATRES',\n",
       "       '40 SELECTED GOVERNMENTAL FACILITIES',\n",
       "       '11 SPECIAL CONDO BILLING LOTS'], dtype=object)"
      ]
     },
     "execution_count": 241,
     "metadata": {},
     "output_type": "execute_result"
    }
   ],
   "source": [
    "df[\"BUILDING CLASS CATEGORY\"].unique()"
   ]
  },
  {
   "cell_type": "markdown",
   "metadata": {},
   "source": [
    "To analyze whether floor numbers would affect property values, I focus on elevator apartments data only. "
   ]
  },
  {
   "cell_type": "code",
   "execution_count": 242,
   "metadata": {},
   "outputs": [],
   "source": [
    "df = df[(df[\"BUILDING CLASS CATEGORY\"] == \"10  COOPS - ELEVATOR APARTMENTS             \") \n",
    "        | (df[\"BUILDING CLASS CATEGORY\"] == \"13  CONDOS - ELEVATOR APARTMENTS            \")\n",
    "       |  (df[\"BUILDING CLASS CATEGORY\"] == \"10 COOPS - ELEVATOR APARTMENTS             \")\n",
    "       | (df[\"BUILDING CLASS CATEGORY\"] == \"13 CONDOS - ELEVATOR APARTMENTS            \")\n",
    "       | (df[\"BUILDING CLASS CATEGORY\"] == \"10 COOPS - ELEVATOR APARTMENTS\")\n",
    "       | (df[\"BUILDING CLASS CATEGORY\"] == \"13 CONDOS - ELEVATOR APARTMENTS\")]"
   ]
  },
  {
   "cell_type": "code",
   "execution_count": 243,
   "metadata": {},
   "outputs": [
    {
     "data": {
      "text/plain": [
       "(208622, 25)"
      ]
     },
     "execution_count": 243,
     "metadata": {},
     "output_type": "execute_result"
    }
   ],
   "source": [
    "df.shape"
   ]
  },
  {
   "cell_type": "markdown",
   "metadata": {},
   "source": [
    "### Data Examination"
   ]
  },
  {
   "cell_type": "code",
   "execution_count": 244,
   "metadata": {},
   "outputs": [
    {
     "name": "stdout",
     "output_type": "stream",
     "text": [
      "There are 25 columns in the dataset.\n"
     ]
    }
   ],
   "source": [
    "print(\"There are \"+ str(len(df.columns)) +\" columns in the dataset.\")"
   ]
  },
  {
   "cell_type": "code",
   "execution_count": 245,
   "metadata": {},
   "outputs": [
    {
     "data": {
      "text/plain": [
       "BOROUGH                                       0\n",
       "NEIGHBORHOOD                                  0\n",
       "BUILDING CLASS CATEGORY                       0\n",
       "TAX CLASS AT PRESENT                      76125\n",
       "BLOCK                                         0\n",
       "LOT                                           0\n",
       "EASE-MENT                                 49081\n",
       "BUILDING CLASS AT PRESENT                 76125\n",
       "ADDRESS                                       0\n",
       "APARTMENT NUMBER                          25803\n",
       "ZIP CODE                                      0\n",
       "RESIDENTIAL UNITS                         13207\n",
       "COMMERCIAL UNITS                          13207\n",
       "TOTAL UNITS                               13207\n",
       "LAND SQUARE FEET                          13207\n",
       "GROSS SQUARE FEET                         13207\n",
       "YEAR BUILT                                 2540\n",
       "TAX CLASS AT TIME OF SALE                     0\n",
       "BUILDING CLASS AT TIME OF SALE                0\n",
       "SALE PRICE                                    0\n",
       "SALE DATE                                     0\n",
       "TAX CLASS AS OF FINAL ROLL 17/18         181578\n",
       "BUILDING CLASS AS OF FINAL ROLL 17/18    181578\n",
       "TAX CLASS AS OF FINAL ROLL 18/19         159744\n",
       "BUILDING CLASS AS OF FINAL ROLL 18/19    159744\n",
       "dtype: int64"
      ]
     },
     "execution_count": 245,
     "metadata": {},
     "output_type": "execute_result"
    }
   ],
   "source": [
    "# inspect null values\n",
    "df.isnull().sum()"
   ]
  },
  {
   "cell_type": "code",
   "execution_count": 246,
   "metadata": {},
   "outputs": [
    {
     "name": "stdout",
     "output_type": "stream",
     "text": [
      "<class 'pandas.core.frame.DataFrame'>\n",
      "Int64Index: 208622 entries, 534 to 773829\n",
      "Data columns (total 25 columns):\n",
      " #   Column                                 Non-Null Count   Dtype         \n",
      "---  ------                                 --------------   -----         \n",
      " 0   BOROUGH                                208622 non-null  float64       \n",
      " 1   NEIGHBORHOOD                           208622 non-null  object        \n",
      " 2   BUILDING CLASS CATEGORY                208622 non-null  object        \n",
      " 3   TAX CLASS AT PRESENT                   132497 non-null  object        \n",
      " 4   BLOCK                                  208622 non-null  float64       \n",
      " 5   LOT                                    208622 non-null  float64       \n",
      " 6   EASE-MENT                              159541 non-null  object        \n",
      " 7   BUILDING CLASS AT PRESENT              132497 non-null  object        \n",
      " 8   ADDRESS                                208622 non-null  object        \n",
      " 9   APARTMENT NUMBER                       182819 non-null  object        \n",
      " 10  ZIP CODE                               208622 non-null  float64       \n",
      " 11  RESIDENTIAL UNITS                      195415 non-null  float64       \n",
      " 12  COMMERCIAL UNITS                       195415 non-null  float64       \n",
      " 13  TOTAL UNITS                            195415 non-null  float64       \n",
      " 14  LAND SQUARE FEET                       195415 non-null  float64       \n",
      " 15  GROSS SQUARE FEET                      195415 non-null  float64       \n",
      " 16  YEAR BUILT                             206082 non-null  float64       \n",
      " 17  TAX CLASS AT TIME OF SALE              208622 non-null  float64       \n",
      " 18  BUILDING CLASS AT TIME OF SALE         208622 non-null  object        \n",
      " 19  SALE PRICE                             208622 non-null  float64       \n",
      " 20  SALE DATE                              208622 non-null  datetime64[ns]\n",
      " 21  TAX CLASS AS OF FINAL ROLL 17/18       27044 non-null   object        \n",
      " 22  BUILDING CLASS AS OF FINAL ROLL 17/18  27044 non-null   object        \n",
      " 23  TAX CLASS AS OF FINAL ROLL 18/19       48878 non-null   object        \n",
      " 24  BUILDING CLASS AS OF FINAL ROLL 18/19  48878 non-null   object        \n",
      "dtypes: datetime64[ns](1), float64(12), object(12)\n",
      "memory usage: 41.4+ MB\n"
     ]
    }
   ],
   "source": [
    "# inspect data types\n",
    "df.info()"
   ]
  },
  {
   "cell_type": "markdown",
   "metadata": {},
   "source": [
    "I made all neighborhood names lower case and stripped extra white space."
   ]
  },
  {
   "cell_type": "code",
   "execution_count": 247,
   "metadata": {},
   "outputs": [],
   "source": [
    "df[\"NEIGHBORHOOD\"] = df[\"NEIGHBORHOOD\"].apply(lambda x: x.lower())\n",
    "df[\"NEIGHBORHOOD\"] = df[\"NEIGHBORHOOD\"].apply(lambda x: x.rstrip(' '))"
   ]
  },
  {
   "cell_type": "markdown",
   "metadata": {},
   "source": [
    "Remove outliers:"
   ]
  },
  {
   "cell_type": "code",
   "execution_count": 248,
   "metadata": {},
   "outputs": [],
   "source": [
    "def rmOutliers(df, column):\n",
    "    Q1 = df[column].quantile(0.25)\n",
    "    Q3 = df[column].quantile(0.75)\n",
    "    IQR = Q3 - Q1\n",
    "    print(IQR)\n",
    "    df_out = df[~((df[[column]] < (Q1 - 1.5 * IQR)) |(df[[column]] > (Q3 + 1.5 * IQR))).any(axis=1)]\n",
    "    print(df_out.shape)\n",
    "    return df_out"
   ]
  },
  {
   "cell_type": "code",
   "execution_count": 249,
   "metadata": {},
   "outputs": [
    {
     "name": "stdout",
     "output_type": "stream",
     "text": [
      "883474.75\n",
      "(189134, 25)\n"
     ]
    }
   ],
   "source": [
    "df = rmOutliers(df, \"SALE PRICE\")\n",
    "# df = rmOutliers(df, \"GROSS SQUARE FEET\")"
   ]
  },
  {
   "cell_type": "code",
   "execution_count": 250,
   "metadata": {
    "scrolled": false
   },
   "outputs": [
    {
     "data": {
      "text/html": [
       "<div>\n",
       "<style scoped>\n",
       "    .dataframe tbody tr th:only-of-type {\n",
       "        vertical-align: middle;\n",
       "    }\n",
       "\n",
       "    .dataframe tbody tr th {\n",
       "        vertical-align: top;\n",
       "    }\n",
       "\n",
       "    .dataframe thead th {\n",
       "        text-align: right;\n",
       "    }\n",
       "</style>\n",
       "<table border=\"1\" class=\"dataframe\">\n",
       "  <thead>\n",
       "    <tr style=\"text-align: right;\">\n",
       "      <th></th>\n",
       "      <th>BOROUGH</th>\n",
       "      <th>BLOCK</th>\n",
       "      <th>LOT</th>\n",
       "      <th>ZIP CODE</th>\n",
       "      <th>RESIDENTIAL UNITS</th>\n",
       "      <th>COMMERCIAL UNITS</th>\n",
       "      <th>TOTAL UNITS</th>\n",
       "      <th>LAND SQUARE FEET</th>\n",
       "      <th>GROSS SQUARE FEET</th>\n",
       "      <th>YEAR BUILT</th>\n",
       "      <th>TAX CLASS AT TIME OF SALE</th>\n",
       "      <th>SALE PRICE</th>\n",
       "    </tr>\n",
       "  </thead>\n",
       "  <tbody>\n",
       "    <tr>\n",
       "      <th>count</th>\n",
       "      <td>189134.000000</td>\n",
       "      <td>189134.000000</td>\n",
       "      <td>189134.000000</td>\n",
       "      <td>189134.000000</td>\n",
       "      <td>176674.000000</td>\n",
       "      <td>176674.000000</td>\n",
       "      <td>176674.000000</td>\n",
       "      <td>1.766740e+05</td>\n",
       "      <td>1.766740e+05</td>\n",
       "      <td>186869.000000</td>\n",
       "      <td>189134.0</td>\n",
       "      <td>1.891340e+05</td>\n",
       "    </tr>\n",
       "    <tr>\n",
       "      <th>mean</th>\n",
       "      <td>2.189125</td>\n",
       "      <td>2561.025701</td>\n",
       "      <td>681.753112</td>\n",
       "      <td>10570.719368</td>\n",
       "      <td>0.793116</td>\n",
       "      <td>0.007302</td>\n",
       "      <td>0.827790</td>\n",
       "      <td>6.594818e+02</td>\n",
       "      <td>4.170493e+02</td>\n",
       "      <td>1738.855733</td>\n",
       "      <td>2.0</td>\n",
       "      <td>5.656760e+05</td>\n",
       "    </tr>\n",
       "    <tr>\n",
       "      <th>std</th>\n",
       "      <td>1.297415</td>\n",
       "      <td>2515.535367</td>\n",
       "      <td>862.461300</td>\n",
       "      <td>794.317531</td>\n",
       "      <td>13.750636</td>\n",
       "      <td>0.332111</td>\n",
       "      <td>13.909625</td>\n",
       "      <td>1.581691e+04</td>\n",
       "      <td>1.898845e+04</td>\n",
       "      <td>622.143041</td>\n",
       "      <td>0.0</td>\n",
       "      <td>5.538441e+05</td>\n",
       "    </tr>\n",
       "    <tr>\n",
       "      <th>min</th>\n",
       "      <td>1.000000</td>\n",
       "      <td>1.000000</td>\n",
       "      <td>1.000000</td>\n",
       "      <td>0.000000</td>\n",
       "      <td>0.000000</td>\n",
       "      <td>0.000000</td>\n",
       "      <td>0.000000</td>\n",
       "      <td>0.000000e+00</td>\n",
       "      <td>0.000000e+00</td>\n",
       "      <td>0.000000</td>\n",
       "      <td>2.0</td>\n",
       "      <td>0.000000e+00</td>\n",
       "    </tr>\n",
       "    <tr>\n",
       "      <th>25%</th>\n",
       "      <td>1.000000</td>\n",
       "      <td>1008.000000</td>\n",
       "      <td>22.000000</td>\n",
       "      <td>10022.000000</td>\n",
       "      <td>0.000000</td>\n",
       "      <td>0.000000</td>\n",
       "      <td>0.000000</td>\n",
       "      <td>0.000000e+00</td>\n",
       "      <td>0.000000e+00</td>\n",
       "      <td>1928.000000</td>\n",
       "      <td>2.0</td>\n",
       "      <td>1.400000e+05</td>\n",
       "    </tr>\n",
       "    <tr>\n",
       "      <th>50%</th>\n",
       "      <td>1.000000</td>\n",
       "      <td>1495.000000</td>\n",
       "      <td>150.000000</td>\n",
       "      <td>10280.000000</td>\n",
       "      <td>0.000000</td>\n",
       "      <td>0.000000</td>\n",
       "      <td>0.000000</td>\n",
       "      <td>0.000000e+00</td>\n",
       "      <td>0.000000e+00</td>\n",
       "      <td>1957.000000</td>\n",
       "      <td>2.0</td>\n",
       "      <td>4.130000e+05</td>\n",
       "    </tr>\n",
       "    <tr>\n",
       "      <th>75%</th>\n",
       "      <td>3.000000</td>\n",
       "      <td>3343.000000</td>\n",
       "      <td>1135.000000</td>\n",
       "      <td>11230.000000</td>\n",
       "      <td>1.000000</td>\n",
       "      <td>0.000000</td>\n",
       "      <td>1.000000</td>\n",
       "      <td>0.000000e+00</td>\n",
       "      <td>0.000000e+00</td>\n",
       "      <td>1973.000000</td>\n",
       "      <td>2.0</td>\n",
       "      <td>8.300000e+05</td>\n",
       "    </tr>\n",
       "    <tr>\n",
       "      <th>max</th>\n",
       "      <td>5.000000</td>\n",
       "      <td>16234.000000</td>\n",
       "      <td>9117.000000</td>\n",
       "      <td>11694.000000</td>\n",
       "      <td>1844.000000</td>\n",
       "      <td>22.000000</td>\n",
       "      <td>1866.000000</td>\n",
       "      <td>4.228300e+06</td>\n",
       "      <td>3.750565e+06</td>\n",
       "      <td>2019.000000</td>\n",
       "      <td>2.0</td>\n",
       "      <td>2.375000e+06</td>\n",
       "    </tr>\n",
       "  </tbody>\n",
       "</table>\n",
       "</div>"
      ],
      "text/plain": [
       "             BOROUGH          BLOCK            LOT       ZIP CODE  \\\n",
       "count  189134.000000  189134.000000  189134.000000  189134.000000   \n",
       "mean        2.189125    2561.025701     681.753112   10570.719368   \n",
       "std         1.297415    2515.535367     862.461300     794.317531   \n",
       "min         1.000000       1.000000       1.000000       0.000000   \n",
       "25%         1.000000    1008.000000      22.000000   10022.000000   \n",
       "50%         1.000000    1495.000000     150.000000   10280.000000   \n",
       "75%         3.000000    3343.000000    1135.000000   11230.000000   \n",
       "max         5.000000   16234.000000    9117.000000   11694.000000   \n",
       "\n",
       "       RESIDENTIAL UNITS  COMMERCIAL UNITS    TOTAL UNITS  LAND SQUARE FEET  \\\n",
       "count      176674.000000     176674.000000  176674.000000      1.766740e+05   \n",
       "mean            0.793116          0.007302       0.827790      6.594818e+02   \n",
       "std            13.750636          0.332111      13.909625      1.581691e+04   \n",
       "min             0.000000          0.000000       0.000000      0.000000e+00   \n",
       "25%             0.000000          0.000000       0.000000      0.000000e+00   \n",
       "50%             0.000000          0.000000       0.000000      0.000000e+00   \n",
       "75%             1.000000          0.000000       1.000000      0.000000e+00   \n",
       "max          1844.000000         22.000000    1866.000000      4.228300e+06   \n",
       "\n",
       "       GROSS SQUARE FEET     YEAR BUILT  TAX CLASS AT TIME OF SALE  \\\n",
       "count       1.766740e+05  186869.000000                   189134.0   \n",
       "mean        4.170493e+02    1738.855733                        2.0   \n",
       "std         1.898845e+04     622.143041                        0.0   \n",
       "min         0.000000e+00       0.000000                        2.0   \n",
       "25%         0.000000e+00    1928.000000                        2.0   \n",
       "50%         0.000000e+00    1957.000000                        2.0   \n",
       "75%         0.000000e+00    1973.000000                        2.0   \n",
       "max         3.750565e+06    2019.000000                        2.0   \n",
       "\n",
       "         SALE PRICE  \n",
       "count  1.891340e+05  \n",
       "mean   5.656760e+05  \n",
       "std    5.538441e+05  \n",
       "min    0.000000e+00  \n",
       "25%    1.400000e+05  \n",
       "50%    4.130000e+05  \n",
       "75%    8.300000e+05  \n",
       "max    2.375000e+06  "
      ]
     },
     "execution_count": 250,
     "metadata": {},
     "output_type": "execute_result"
    }
   ],
   "source": [
    "df.describe()"
   ]
  },
  {
   "cell_type": "markdown",
   "metadata": {},
   "source": [
    "To lesson impacts by other factors, I decided to focus on condos under 1,000 sqft."
   ]
  },
  {
   "cell_type": "code",
   "execution_count": 251,
   "metadata": {},
   "outputs": [],
   "source": [
    "df = df[(df[\"GROSS SQUARE FEET\"] <= 1000)]"
   ]
  },
  {
   "cell_type": "code",
   "execution_count": 252,
   "metadata": {},
   "outputs": [
    {
     "data": {
      "text/plain": [
       "(172905, 25)"
      ]
     },
     "execution_count": 252,
     "metadata": {},
     "output_type": "execute_result"
    }
   ],
   "source": [
    "df.shape"
   ]
  },
  {
   "cell_type": "markdown",
   "metadata": {},
   "source": [
    "The top neighborhoods that have the most postings:"
   ]
  },
  {
   "cell_type": "code",
   "execution_count": 253,
   "metadata": {
    "scrolled": true
   },
   "outputs": [
    {
     "data": {
      "text/plain": [
       "upper east side (59-79)    9267\n",
       "upper east side (79-96)    8508\n",
       "flushing-north             7777\n",
       "midtown east               7448\n",
       "upper west side (59-79)    7005\n",
       "                           ... \n",
       "woodhaven                     6\n",
       "manhattan-unknown             3\n",
       "crotona park                  3\n",
       "red hook                      1\n",
       "springfield gardens           1\n",
       "Name: NEIGHBORHOOD, Length: 178, dtype: int64"
      ]
     },
     "execution_count": 253,
     "metadata": {},
     "output_type": "execute_result"
    }
   ],
   "source": [
    "df.NEIGHBORHOOD.value_counts()"
   ]
  },
  {
   "cell_type": "code",
   "execution_count": 278,
   "metadata": {},
   "outputs": [
    {
     "name": "stdout",
     "output_type": "stream",
     "text": [
      "Mean price of condos under 1,000 sqft: 564593.2438911541\n"
     ]
    }
   ],
   "source": [
    "print(\"Mean price of condos under 1,000 sqft: \" + str(df[\"SALE PRICE\"].mean()))"
   ]
  },
  {
   "cell_type": "markdown",
   "metadata": {},
   "source": [
    "<!-- Average Price and size are a lot higher than median rent and size, indicating that these columns have some outliers. -->"
   ]
  },
  {
   "cell_type": "markdown",
   "metadata": {},
   "source": [
    "### Areas with large Chinese-American populations"
   ]
  },
  {
   "cell_type": "markdown",
   "metadata": {},
   "source": [
    "The three largest Chinatowns in NYC lie in Brooklyn, Manhattan and Queens. To examine whether houses related to auspicious and inauspicious numbers have higher or lower property values, I wanted to pay close attention to areas with significant Chinese-American populations.\n",
    "\n",
    "I downloaded the demographic dataset from NYC department of city planning."
   ]
  },
  {
   "cell_type": "code",
   "execution_count": 255,
   "metadata": {},
   "outputs": [],
   "source": [
    "# data source: https://www1.nyc.gov/site/planning/planning-level/nyc-population/american-community-survey.page\n",
    "nydemo = pd.read_csv(\"nyneighborhood-demo.csv\")"
   ]
  },
  {
   "cell_type": "code",
   "execution_count": 256,
   "metadata": {
    "scrolled": true
   },
   "outputs": [
    {
     "data": {
      "text/html": [
       "<div>\n",
       "<style scoped>\n",
       "    .dataframe tbody tr th:only-of-type {\n",
       "        vertical-align: middle;\n",
       "    }\n",
       "\n",
       "    .dataframe tbody tr th {\n",
       "        vertical-align: top;\n",
       "    }\n",
       "\n",
       "    .dataframe thead th {\n",
       "        text-align: right;\n",
       "    }\n",
       "</style>\n",
       "<table border=\"1\" class=\"dataframe\">\n",
       "  <thead>\n",
       "    <tr style=\"text-align: right;\">\n",
       "      <th></th>\n",
       "      <th>GeogName</th>\n",
       "      <th>Borough</th>\n",
       "      <th>AsnChiNoTE</th>\n",
       "      <th>AsnChiNoTM</th>\n",
       "      <th>AsnChiNoTC</th>\n",
       "      <th>AsnChiNoTP</th>\n",
       "      <th>AsnChiNoTZ</th>\n",
       "    </tr>\n",
       "  </thead>\n",
       "  <tbody>\n",
       "    <tr>\n",
       "      <th>0</th>\n",
       "      <td>Allerton-Pelham Gardens</td>\n",
       "      <td>Bronx</td>\n",
       "      <td>444</td>\n",
       "      <td>230</td>\n",
       "      <td>31.5</td>\n",
       "      <td>13.8</td>\n",
       "      <td>6.7</td>\n",
       "    </tr>\n",
       "    <tr>\n",
       "      <th>1</th>\n",
       "      <td>Bedford Park-Fordham North</td>\n",
       "      <td>Bronx</td>\n",
       "      <td>157</td>\n",
       "      <td>123</td>\n",
       "      <td>47.6</td>\n",
       "      <td>6.8</td>\n",
       "      <td>5.1</td>\n",
       "    </tr>\n",
       "    <tr>\n",
       "      <th>2</th>\n",
       "      <td>Belmont</td>\n",
       "      <td>Bronx</td>\n",
       "      <td>97</td>\n",
       "      <td>62</td>\n",
       "      <td>38.8</td>\n",
       "      <td>14.3</td>\n",
       "      <td>7.9</td>\n",
       "    </tr>\n",
       "    <tr>\n",
       "      <th>3</th>\n",
       "      <td>Bronxdale</td>\n",
       "      <td>Bronx</td>\n",
       "      <td>128</td>\n",
       "      <td>107</td>\n",
       "      <td>50.8</td>\n",
       "      <td>10.5</td>\n",
       "      <td>8.2</td>\n",
       "    </tr>\n",
       "    <tr>\n",
       "      <th>4</th>\n",
       "      <td>Claremont-Bathgate</td>\n",
       "      <td>Bronx</td>\n",
       "      <td>0</td>\n",
       "      <td>NaN</td>\n",
       "      <td>NaN</td>\n",
       "      <td>NaN</td>\n",
       "      <td>NaN</td>\n",
       "    </tr>\n",
       "  </tbody>\n",
       "</table>\n",
       "</div>"
      ],
      "text/plain": [
       "                     GeogName Borough AsnChiNoTE AsnChiNoTM  AsnChiNoTC  \\\n",
       "0     Allerton-Pelham Gardens   Bronx        444        230        31.5   \n",
       "1  Bedford Park-Fordham North   Bronx        157        123        47.6   \n",
       "2                     Belmont   Bronx         97         62        38.8   \n",
       "3                   Bronxdale   Bronx        128        107        50.8   \n",
       "4          Claremont-Bathgate   Bronx          0        NaN         NaN   \n",
       "\n",
       "   AsnChiNoTP  AsnChiNoTZ  \n",
       "0        13.8         6.7  \n",
       "1         6.8         5.1  \n",
       "2        14.3         7.9  \n",
       "3        10.5         8.2  \n",
       "4         NaN         NaN  "
      ]
     },
     "execution_count": 256,
     "metadata": {},
     "output_type": "execute_result"
    }
   ],
   "source": [
    "nydemo.head()"
   ]
  },
  {
   "cell_type": "code",
   "execution_count": 257,
   "metadata": {},
   "outputs": [],
   "source": [
    "# lowercase\n",
    "nydemo[\"GeogName\"] = nydemo[\"GeogName\"].apply(lambda x: x.lower())"
   ]
  },
  {
   "cell_type": "code",
   "execution_count": 258,
   "metadata": {},
   "outputs": [],
   "source": [
    "sortedNydemo = nydemo.sort_values(by=[\"AsnChiNoTP\"], ascending=False).reset_index(drop=True)"
   ]
  },
  {
   "cell_type": "code",
   "execution_count": 259,
   "metadata": {},
   "outputs": [],
   "source": [
    "# I focus on the column indicating percentage of Chinese population\n",
    "sortedNydemo = sortedNydemo[[\"GeogName\", \"Borough\", \"AsnChiNoTP\"]]"
   ]
  },
  {
   "cell_type": "markdown",
   "metadata": {},
   "source": [
    "Before merging the two datasets together, I have to align the naming of the neighborhoods."
   ]
  },
  {
   "cell_type": "code",
   "execution_count": 260,
   "metadata": {},
   "outputs": [],
   "source": [
    "for i in df.NEIGHBORHOOD.unique():\n",
    "    if i.split()[:3] == \"upper east side\":\n",
    "        df.NEIGHBORHOOD = df.NEIGHBORHOOD.replace(i, \"upper east side\")\n",
    "    elif i.split()[:3] == \"upper west side\":\n",
    "        df.NEIGHBORHOOD = df.NEIGHBORHOOD.replace(i, \"upper west side\")\n",
    "    elif i == \"flatiron\":\n",
    "        df.NEIGHBORHOOD = df.NEIGHBORHOOD.replace(i, 'hudson yards-chelsea-flat iron-union square')\n",
    "    for j in nydemo.GeogName.unique():\n",
    "        if i in j:\n",
    "            df.NEIGHBORHOOD = df.NEIGHBORHOOD.replace(i, j)\n",
    "        elif j in i:\n",
    "            df.NEIGHBORHOOD = df.NEIGHBORHOOD.replace(i, j)\n",
    "        elif i.split()[0] in j:\n",
    "            df.NEIGHBORHOOD = df.NEIGHBORHOOD.replace(i, j)\n",
    "        elif i.split(\"/\")[0] in j:\n",
    "            df.NEIGHBORHOOD = df.NEIGHBORHOOD.replace(i, j)\n",
    "        elif i.split(\"-\")[0] in j:\n",
    "            df.NEIGHBORHOOD = df.NEIGHBORHOOD.replace(i, j)"
   ]
  },
  {
   "cell_type": "code",
   "execution_count": 261,
   "metadata": {},
   "outputs": [
    {
     "data": {
      "text/plain": [
       "upper east side-carnegie hill                  32189\n",
       "midtown-midtown south                          13481\n",
       "east flushing                                   8622\n",
       "murray hill-kips bay                            6431\n",
       "hudson yards-chelsea-flat iron-union square     5512\n",
       "                                               ...  \n",
       "bellerose                                         16\n",
       "park-cemetery-etc-queens                           8\n",
       "woodhaven                                          6\n",
       "cypress hills-city line                            6\n",
       "springfield gardens north                          1\n",
       "Name: NEIGHBORHOOD, Length: 114, dtype: int64"
      ]
     },
     "execution_count": 261,
     "metadata": {},
     "output_type": "execute_result"
    }
   ],
   "source": [
    "df.NEIGHBORHOOD.value_counts()"
   ]
  },
  {
   "cell_type": "code",
   "execution_count": 281,
   "metadata": {},
   "outputs": [
    {
     "name": "stdout",
     "output_type": "stream",
     "text": [
      "Neighborhood names that are not included in the demographic dataset from NYC department of city planning: \n",
      "['clove lakes', 'grant city', 'tompkinsville', 'wyckoff heights', 'alphabet city', 'fashion', 'financial', 'greenwich village-central', 'greenwich village-west', 'javits center', 'southbridge', 'beechhurst', 'navy yard']\n"
     ]
    }
   ],
   "source": [
    "ls = []\n",
    "for i in df.NEIGHBORHOOD.unique():\n",
    "    if i not in nydemo.GeogName.unique():\n",
    "        ls.append(i)\n",
    "print(\"Neighborhood names that are not included in the demographic dataset from NYC department of city planning: \")\n",
    "print(ls)"
   ]
  },
  {
   "cell_type": "markdown",
   "metadata": {},
   "source": [
    "Merge the two datasets so we can have percentage of Chinese population in the housing dataset."
   ]
  },
  {
   "cell_type": "code",
   "execution_count": 263,
   "metadata": {},
   "outputs": [],
   "source": [
    "merged = pd.merge(df, nydemo,  how='inner', left_on=['NEIGHBORHOOD'], right_on = ['GeogName'])"
   ]
  },
  {
   "cell_type": "code",
   "execution_count": 264,
   "metadata": {},
   "outputs": [
    {
     "data": {
      "text/plain": [
       "(162061, 32)"
      ]
     },
     "execution_count": 264,
     "metadata": {},
     "output_type": "execute_result"
    }
   ],
   "source": [
    "merged.shape"
   ]
  },
  {
   "cell_type": "code",
   "execution_count": 265,
   "metadata": {},
   "outputs": [],
   "source": [
    "sortedMerged = merged.sort_values(by = [\"AsnChiNoTP\"], ascending=False).reset_index(drop=True)"
   ]
  },
  {
   "cell_type": "markdown",
   "metadata": {},
   "source": [
    "### Find out address ending number"
   ]
  },
  {
   "cell_type": "code",
   "execution_count": 267,
   "metadata": {},
   "outputs": [],
   "source": [
    "def endingNumAndPrice(df):\n",
    "    df[\"number\"] = df.ADDRESS.apply(lambda x: x.split(\" \")[-1])\n",
    "    df[\"number\"] = df.number.apply(lambda x: x.lstrip(\"#\"))\n",
    "    df[\"number\"] = df.number.apply(lambda x: re.sub(\"[\\-A-Za-z]\", '', x))\n",
    "    #Address number that ends with four:\n",
    "    df[\"floornum_end_four\"] = df.number.str[-1]==\"4\"\n",
    "    \n",
    "    #Address number that ends without four:\n",
    "    df[\"floornum_end_withoutFour\"] = df.number.str[-1]!=\"4\"\n",
    "    \n",
    "    #Address number that ends with eight:\n",
    "    df[\"floornum_end_eight\"] = df.number.str[-1]==\"8\"\n",
    "    \n",
    "    #Address number that ends with eight:\n",
    "    df[\"floornum_end_withoutEight\"] = df.number.str[-1]!=\"8\"\n",
    "    \n",
    "    total = df.shape[0]\n",
    "    aptWithFour = df[df[\"floornum_end_four\"]==True]\n",
    "    aptWithEight = df[df[\"floornum_end_eight\"]==True]\n",
    "    aptWithoutFour = df[df[\"floornum_end_withoutFour\"]==True]\n",
    "    aptWithoutEight = df[df[\"floornum_end_withoutEight\"]==True]\n",
    "    wFourP = round(aptWithFour.shape[0] / total, 2)\n",
    "    wEightP = round(aptWithEight.shape[0] / total, 2)\n",
    "    withoutFourP = round(aptWithoutFour.shape[0] / total, 2)\n",
    "    withoutEightP = round(aptWithoutEight.shape[0] / total, 2)\n",
    "    \n",
    "    print(\"Houses with floor number that ends with four has \" + str(aptWithFour.shape[0]) + \" observations, making up \" + str(wFourP) + \" of the total observations.\")\n",
    "    print(\"Houses with floor number that ends without four has \" + str(aptWithoutFour.shape[0]) + \" observations, making up \" + str(withoutFourP) + \" of the total observations.\")\n",
    "    print(\"Houses with floor number that ends with Eight has \" + str(aptWithEight.shape[0]) + \" observations, making up \"+ str(wEightP) + \" of the total observations.\")\n",
    "    print(\"Houses with floor number that ends without Eight has \" + str(aptWithoutEight.shape[0]) + \" observations, making up \"+ str(withoutEightP) + \" of the total observations.\")\n",
    "    \n",
    "    print(\"Mean price of all apt: \"+ str(round(df[\"SALE PRICE\"].mean())))\n",
    "    print(\"Mean price of apt floor num ending with four: \"+ str(round(aptWithFour[\"SALE PRICE\"].mean())))\n",
    "    print(\"Mean price of apt floor num ending without four: \"+ str(round(aptWithoutFour[\"SALE PRICE\"].mean())))\n",
    "    print(\"Mean price of apt floor num ending with eight: \"+ str(round(aptWithEight[\"SALE PRICE\"].mean())))\n",
    "    print(\"Mean price of apt floor num ending without eight: \"+ str(round(aptWithoutEight[\"SALE PRICE\"].mean())))\n",
    "    return df"
   ]
  },
  {
   "cell_type": "code",
   "execution_count": 268,
   "metadata": {},
   "outputs": [
    {
     "name": "stdout",
     "output_type": "stream",
     "text": [
      "Houses with floor number that ends with four has 4327 observations, making up 0.03 of the total observations.\n",
      "Houses with floor number that ends without four has 157734 observations, making up 0.97 of the total observations.\n",
      "Houses with floor number that ends with Eight has 1796 observations, making up 0.01 of the total observations.\n",
      "Houses with floor number that ends without Eight has 160265 observations, making up 0.99 of the total observations.\n",
      "Mean price of all apt: 551330\n",
      "Mean price of apt floor num ending with four: 542873\n",
      "Mean price of apt floor num ending without four: 551562\n",
      "Mean price of apt floor num ending with eight: 672328\n",
      "Mean price of apt floor num ending without eight: 549974\n"
     ]
    }
   ],
   "source": [
    "sortedMerged = endingNumAndPrice(sortedMerged)"
   ]
  },
  {
   "cell_type": "markdown",
   "metadata": {},
   "source": [
    "Drop rows with no address number:"
   ]
  },
  {
   "cell_type": "code",
   "execution_count": 269,
   "metadata": {},
   "outputs": [],
   "source": [
    "noNan = sortedMerged.dropna(subset=['number'])"
   ]
  },
  {
   "cell_type": "markdown",
   "metadata": {},
   "source": [
    "Create a function to calculate the ratio between the avg price of condos with floor number ending in 4 and that ending without 4."
   ]
  },
  {
   "cell_type": "code",
   "execution_count": 270,
   "metadata": {},
   "outputs": [],
   "source": [
    "def comparePrice(df, column, number):\n",
    "    grouped = df.groupby([\"NEIGHBORHOOD\", column])\n",
    "    moreThan10 = grouped.filter(lambda x: x[\"BOROUGH\"].count() >= number)\n",
    "    moreThan10Mean = moreThan10.groupby([\"NEIGHBORHOOD\", column]).mean()\n",
    "    moreThan10MeanDf = moreThan10Mean.add_suffix('_Mean').reset_index()\n",
    "    moreThan10MeanDf[\"ratio\"] = moreThan10MeanDf.groupby(\"NEIGHBORHOOD\")[\"SALE PRICE_Mean\"].apply(lambda x: x/x.shift(1))\n",
    "    moreThan10MeanDfVariance = moreThan10MeanDf[moreThan10MeanDf[column]==True]\n",
    "    return moreThan10MeanDfVariance"
   ]
  },
  {
   "cell_type": "code",
   "execution_count": 271,
   "metadata": {},
   "outputs": [],
   "source": [
    "four = comparePrice(noNan, \"floornum_end_four\", 10) # select neighborhoods that have at least 10 sales records"
   ]
  },
  {
   "cell_type": "markdown",
   "metadata": {},
   "source": [
    "Each dot represents one neighborhood. The x axis indicates the percentage of Chinese population and the y axis represents the ratio of dividing the avg price of condos with floor number ending in 4 by that of condos with floor number ending without 4."
   ]
  },
  {
   "cell_type": "code",
   "execution_count": 282,
   "metadata": {},
   "outputs": [
    {
     "data": {
      "application/vnd.plotly.v1+json": {
       "config": {
        "plotlyServerURL": "https://plot.ly"
       },
       "data": [
        {
         "customdata": [
          [
           "allerton-pelham gardens"
          ],
          [
           "battery park city-lower manhattan"
          ],
          [
           "bayside-bayside hills"
          ],
          [
           "bedford park-fordham north"
          ],
          [
           "borough park"
          ],
          [
           "briarwood-jamaica hills"
          ],
          [
           "bronxdale"
          ],
          [
           "brooklyn heights-cobble hill"
          ],
          [
           "central harlem north-polo grounds"
          ],
          [
           "clinton hill"
          ],
          [
           "crotona park east"
          ],
          [
           "crown heights north"
          ],
          [
           "dumbo-vinegar hill-downtown brooklyn-boerum hill"
          ],
          [
           "east elmhurst"
          ],
          [
           "east flatbush-farragut"
          ],
          [
           "east flushing"
          ],
          [
           "east williamsburg"
          ],
          [
           "eastchester-edenwald-baychester"
          ],
          [
           "flatlands"
          ],
          [
           "forest hills"
          ],
          [
           "fort greene"
          ],
          [
           "georgetown-marine park-bergen beach-mill basin"
          ],
          [
           "glen oaks-floral park-new hyde park"
          ],
          [
           "glendale"
          ],
          [
           "gramercy"
          ],
          [
           "gravesend"
          ],
          [
           "greenpoint"
          ],
          [
           "hudson yards-chelsea-flat iron-union square"
          ],
          [
           "hunters point-sunnyside-west maspeth"
          ],
          [
           "jackson heights"
          ],
          [
           "jamaica estates-holliswood"
          ],
          [
           "kensington-ocean parkway"
          ],
          [
           "kew gardens hills"
          ],
          [
           "kingsbridge heights"
          ],
          [
           "lindenwood-howard beach"
          ],
          [
           "longwood"
          ],
          [
           "madison"
          ],
          [
           "marble hill-inwood"
          ],
          [
           "melrose south-mott haven north"
          ],
          [
           "midtown-midtown south"
          ],
          [
           "midwood"
          ],
          [
           "morningside heights"
          ],
          [
           "murray hill-kips bay"
          ],
          [
           "north corona"
          ],
          [
           "north riverdale-fieldston-riverdale"
          ],
          [
           "oakland gardens"
          ],
          [
           "old astoria"
          ],
          [
           "parkchester"
          ],
          [
           "prospect lefferts gardens-wingate"
          ],
          [
           "rego park"
          ],
          [
           "seagate-coney island"
          ],
          [
           "sheepshead bay-gerritsen beach-manhattan beach"
          ],
          [
           "soho-tribeca-civic center-little italy"
          ],
          [
           "sunset park east"
          ],
          [
           "upper east side-carnegie hill"
          ],
          [
           "washington heights north"
          ],
          [
           "west brighton"
          ],
          [
           "windsor terrace"
          ],
          [
           "woodside"
          ]
         ],
         "hovertemplate": "% of Chinese population by neighborhood=%{x}<br>Ratio  by neighborhood=%{y}<br>NEIGHBORHOOD=%{customdata[0]}<extra></extra>",
         "legendgroup": "",
         "marker": {
          "color": "#636efa",
          "symbol": "circle"
         },
         "mode": "markers",
         "name": "",
         "orientation": "v",
         "showlegend": false,
         "type": "scatter",
         "x": [
          13.800000000000006,
          52,
          58.19999999999997,
          6.799999999999997,
          71.89999999999999,
          10.39999999999999,
          10.5,
          36.70000000000003,
          34.80000000000004,
          34.70000000000003,
          42.90000000000003,
          24.899999999999995,
          59.400000000000055,
          22.100000000000005,
          12.299999999999981,
          65.60000000000025,
          74,
          10.299999999999988,
          12.799999999999999,
          54,
          59,
          55.399999999999984,
          7.800000000000004,
          35.699999999999996,
          38.599999999999945,
          76.29999999999998,
          28.5,
          46.59999999999998,
          28.899999999999988,
          27.099999999999945,
          7.700000000000002,
          19.799999999999972,
          59.09999999999994,
          10.5,
          33.099999999999994,
          81,
          76.9,
          15.1,
          18.89999999999999,
          36.700000000000095,
          31.5,
          55.399999999999984,
          42.600000000000044,
          69,
          29.199999999999932,
          61.900000000000006,
          13.700000000000014,
          4.400000000000003,
          34.79999999999999,
          47,
          70.29999999999997,
          73.39999999999988,
          71.80000000000008,
          92.79999999999998,
          32.40000000000031,
          24.09999999999996,
          9.399999999999991,
          31.699999999999992,
          26.700000000000017
         ],
         "xaxis": "x",
         "y": [
          1.00222887603553,
          1.4709330893280816,
          0.9898588404195395,
          1.0952230370412297,
          1.092710312162543,
          1.2778039175071847,
          1.0305353859987274,
          1.0357057208957463,
          1.1179194828559775,
          1.0223471581528132,
          1.519103817889276,
          0.6751865572355884,
          0.9734889227762995,
          1.4822291749947734,
          1.0791114085847135,
          0.6717008165380591,
          1.2902415192412906,
          1.2812624356015136,
          1.1514570785789753,
          1.0313217300600803,
          1.0487791016612105,
          0.7677194030067895,
          1.145023832456967,
          0.9560929665832328,
          0.9366060987234711,
          0.779481455173865,
          1.4697188973203112,
          1.0494729713651227,
          1.3043700104882963,
          1.1971790341492603,
          1.1460319063448365,
          1.1970892831576236,
          1.0855894109758095,
          1.014289566271933,
          1.2696411185577592,
          1.3593603148053677,
          0.7915064475843664,
          1.0779408421740155,
          1.371085675412468,
          0.9619461572006114,
          1.182584334923698,
          0.8312343969858116,
          0.9662865238604359,
          1.1380067691688476,
          0.9381837588218609,
          1.1127990184628023,
          1.10371180715707,
          1.4757289572095926,
          1.096926267867191,
          1.162427092467459,
          1.142424607889066,
          0.7680100406713616,
          1.180368713197368,
          0.7633017230901523,
          1.1305623467626615,
          1.0899654302628647,
          0.6497278462993211,
          1.1536371460266552,
          1.1035365832158228
         ],
         "yaxis": "y"
        }
       ],
       "layout": {
        "legend": {
         "tracegroupgap": 0
        },
        "template": {
         "data": {
          "bar": [
           {
            "error_x": {
             "color": "#2a3f5f"
            },
            "error_y": {
             "color": "#2a3f5f"
            },
            "marker": {
             "line": {
              "color": "#E5ECF6",
              "width": 0.5
             }
            },
            "type": "bar"
           }
          ],
          "barpolar": [
           {
            "marker": {
             "line": {
              "color": "#E5ECF6",
              "width": 0.5
             }
            },
            "type": "barpolar"
           }
          ],
          "carpet": [
           {
            "aaxis": {
             "endlinecolor": "#2a3f5f",
             "gridcolor": "white",
             "linecolor": "white",
             "minorgridcolor": "white",
             "startlinecolor": "#2a3f5f"
            },
            "baxis": {
             "endlinecolor": "#2a3f5f",
             "gridcolor": "white",
             "linecolor": "white",
             "minorgridcolor": "white",
             "startlinecolor": "#2a3f5f"
            },
            "type": "carpet"
           }
          ],
          "choropleth": [
           {
            "colorbar": {
             "outlinewidth": 0,
             "ticks": ""
            },
            "type": "choropleth"
           }
          ],
          "contour": [
           {
            "colorbar": {
             "outlinewidth": 0,
             "ticks": ""
            },
            "colorscale": [
             [
              0,
              "#0d0887"
             ],
             [
              0.1111111111111111,
              "#46039f"
             ],
             [
              0.2222222222222222,
              "#7201a8"
             ],
             [
              0.3333333333333333,
              "#9c179e"
             ],
             [
              0.4444444444444444,
              "#bd3786"
             ],
             [
              0.5555555555555556,
              "#d8576b"
             ],
             [
              0.6666666666666666,
              "#ed7953"
             ],
             [
              0.7777777777777778,
              "#fb9f3a"
             ],
             [
              0.8888888888888888,
              "#fdca26"
             ],
             [
              1,
              "#f0f921"
             ]
            ],
            "type": "contour"
           }
          ],
          "contourcarpet": [
           {
            "colorbar": {
             "outlinewidth": 0,
             "ticks": ""
            },
            "type": "contourcarpet"
           }
          ],
          "heatmap": [
           {
            "colorbar": {
             "outlinewidth": 0,
             "ticks": ""
            },
            "colorscale": [
             [
              0,
              "#0d0887"
             ],
             [
              0.1111111111111111,
              "#46039f"
             ],
             [
              0.2222222222222222,
              "#7201a8"
             ],
             [
              0.3333333333333333,
              "#9c179e"
             ],
             [
              0.4444444444444444,
              "#bd3786"
             ],
             [
              0.5555555555555556,
              "#d8576b"
             ],
             [
              0.6666666666666666,
              "#ed7953"
             ],
             [
              0.7777777777777778,
              "#fb9f3a"
             ],
             [
              0.8888888888888888,
              "#fdca26"
             ],
             [
              1,
              "#f0f921"
             ]
            ],
            "type": "heatmap"
           }
          ],
          "heatmapgl": [
           {
            "colorbar": {
             "outlinewidth": 0,
             "ticks": ""
            },
            "colorscale": [
             [
              0,
              "#0d0887"
             ],
             [
              0.1111111111111111,
              "#46039f"
             ],
             [
              0.2222222222222222,
              "#7201a8"
             ],
             [
              0.3333333333333333,
              "#9c179e"
             ],
             [
              0.4444444444444444,
              "#bd3786"
             ],
             [
              0.5555555555555556,
              "#d8576b"
             ],
             [
              0.6666666666666666,
              "#ed7953"
             ],
             [
              0.7777777777777778,
              "#fb9f3a"
             ],
             [
              0.8888888888888888,
              "#fdca26"
             ],
             [
              1,
              "#f0f921"
             ]
            ],
            "type": "heatmapgl"
           }
          ],
          "histogram": [
           {
            "marker": {
             "colorbar": {
              "outlinewidth": 0,
              "ticks": ""
             }
            },
            "type": "histogram"
           }
          ],
          "histogram2d": [
           {
            "colorbar": {
             "outlinewidth": 0,
             "ticks": ""
            },
            "colorscale": [
             [
              0,
              "#0d0887"
             ],
             [
              0.1111111111111111,
              "#46039f"
             ],
             [
              0.2222222222222222,
              "#7201a8"
             ],
             [
              0.3333333333333333,
              "#9c179e"
             ],
             [
              0.4444444444444444,
              "#bd3786"
             ],
             [
              0.5555555555555556,
              "#d8576b"
             ],
             [
              0.6666666666666666,
              "#ed7953"
             ],
             [
              0.7777777777777778,
              "#fb9f3a"
             ],
             [
              0.8888888888888888,
              "#fdca26"
             ],
             [
              1,
              "#f0f921"
             ]
            ],
            "type": "histogram2d"
           }
          ],
          "histogram2dcontour": [
           {
            "colorbar": {
             "outlinewidth": 0,
             "ticks": ""
            },
            "colorscale": [
             [
              0,
              "#0d0887"
             ],
             [
              0.1111111111111111,
              "#46039f"
             ],
             [
              0.2222222222222222,
              "#7201a8"
             ],
             [
              0.3333333333333333,
              "#9c179e"
             ],
             [
              0.4444444444444444,
              "#bd3786"
             ],
             [
              0.5555555555555556,
              "#d8576b"
             ],
             [
              0.6666666666666666,
              "#ed7953"
             ],
             [
              0.7777777777777778,
              "#fb9f3a"
             ],
             [
              0.8888888888888888,
              "#fdca26"
             ],
             [
              1,
              "#f0f921"
             ]
            ],
            "type": "histogram2dcontour"
           }
          ],
          "mesh3d": [
           {
            "colorbar": {
             "outlinewidth": 0,
             "ticks": ""
            },
            "type": "mesh3d"
           }
          ],
          "parcoords": [
           {
            "line": {
             "colorbar": {
              "outlinewidth": 0,
              "ticks": ""
             }
            },
            "type": "parcoords"
           }
          ],
          "pie": [
           {
            "automargin": true,
            "type": "pie"
           }
          ],
          "scatter": [
           {
            "marker": {
             "colorbar": {
              "outlinewidth": 0,
              "ticks": ""
             }
            },
            "type": "scatter"
           }
          ],
          "scatter3d": [
           {
            "line": {
             "colorbar": {
              "outlinewidth": 0,
              "ticks": ""
             }
            },
            "marker": {
             "colorbar": {
              "outlinewidth": 0,
              "ticks": ""
             }
            },
            "type": "scatter3d"
           }
          ],
          "scattercarpet": [
           {
            "marker": {
             "colorbar": {
              "outlinewidth": 0,
              "ticks": ""
             }
            },
            "type": "scattercarpet"
           }
          ],
          "scattergeo": [
           {
            "marker": {
             "colorbar": {
              "outlinewidth": 0,
              "ticks": ""
             }
            },
            "type": "scattergeo"
           }
          ],
          "scattergl": [
           {
            "marker": {
             "colorbar": {
              "outlinewidth": 0,
              "ticks": ""
             }
            },
            "type": "scattergl"
           }
          ],
          "scattermapbox": [
           {
            "marker": {
             "colorbar": {
              "outlinewidth": 0,
              "ticks": ""
             }
            },
            "type": "scattermapbox"
           }
          ],
          "scatterpolar": [
           {
            "marker": {
             "colorbar": {
              "outlinewidth": 0,
              "ticks": ""
             }
            },
            "type": "scatterpolar"
           }
          ],
          "scatterpolargl": [
           {
            "marker": {
             "colorbar": {
              "outlinewidth": 0,
              "ticks": ""
             }
            },
            "type": "scatterpolargl"
           }
          ],
          "scatterternary": [
           {
            "marker": {
             "colorbar": {
              "outlinewidth": 0,
              "ticks": ""
             }
            },
            "type": "scatterternary"
           }
          ],
          "surface": [
           {
            "colorbar": {
             "outlinewidth": 0,
             "ticks": ""
            },
            "colorscale": [
             [
              0,
              "#0d0887"
             ],
             [
              0.1111111111111111,
              "#46039f"
             ],
             [
              0.2222222222222222,
              "#7201a8"
             ],
             [
              0.3333333333333333,
              "#9c179e"
             ],
             [
              0.4444444444444444,
              "#bd3786"
             ],
             [
              0.5555555555555556,
              "#d8576b"
             ],
             [
              0.6666666666666666,
              "#ed7953"
             ],
             [
              0.7777777777777778,
              "#fb9f3a"
             ],
             [
              0.8888888888888888,
              "#fdca26"
             ],
             [
              1,
              "#f0f921"
             ]
            ],
            "type": "surface"
           }
          ],
          "table": [
           {
            "cells": {
             "fill": {
              "color": "#EBF0F8"
             },
             "line": {
              "color": "white"
             }
            },
            "header": {
             "fill": {
              "color": "#C8D4E3"
             },
             "line": {
              "color": "white"
             }
            },
            "type": "table"
           }
          ]
         },
         "layout": {
          "annotationdefaults": {
           "arrowcolor": "#2a3f5f",
           "arrowhead": 0,
           "arrowwidth": 1
          },
          "coloraxis": {
           "colorbar": {
            "outlinewidth": 0,
            "ticks": ""
           }
          },
          "colorscale": {
           "diverging": [
            [
             0,
             "#8e0152"
            ],
            [
             0.1,
             "#c51b7d"
            ],
            [
             0.2,
             "#de77ae"
            ],
            [
             0.3,
             "#f1b6da"
            ],
            [
             0.4,
             "#fde0ef"
            ],
            [
             0.5,
             "#f7f7f7"
            ],
            [
             0.6,
             "#e6f5d0"
            ],
            [
             0.7,
             "#b8e186"
            ],
            [
             0.8,
             "#7fbc41"
            ],
            [
             0.9,
             "#4d9221"
            ],
            [
             1,
             "#276419"
            ]
           ],
           "sequential": [
            [
             0,
             "#0d0887"
            ],
            [
             0.1111111111111111,
             "#46039f"
            ],
            [
             0.2222222222222222,
             "#7201a8"
            ],
            [
             0.3333333333333333,
             "#9c179e"
            ],
            [
             0.4444444444444444,
             "#bd3786"
            ],
            [
             0.5555555555555556,
             "#d8576b"
            ],
            [
             0.6666666666666666,
             "#ed7953"
            ],
            [
             0.7777777777777778,
             "#fb9f3a"
            ],
            [
             0.8888888888888888,
             "#fdca26"
            ],
            [
             1,
             "#f0f921"
            ]
           ],
           "sequentialminus": [
            [
             0,
             "#0d0887"
            ],
            [
             0.1111111111111111,
             "#46039f"
            ],
            [
             0.2222222222222222,
             "#7201a8"
            ],
            [
             0.3333333333333333,
             "#9c179e"
            ],
            [
             0.4444444444444444,
             "#bd3786"
            ],
            [
             0.5555555555555556,
             "#d8576b"
            ],
            [
             0.6666666666666666,
             "#ed7953"
            ],
            [
             0.7777777777777778,
             "#fb9f3a"
            ],
            [
             0.8888888888888888,
             "#fdca26"
            ],
            [
             1,
             "#f0f921"
            ]
           ]
          },
          "colorway": [
           "#636efa",
           "#EF553B",
           "#00cc96",
           "#ab63fa",
           "#FFA15A",
           "#19d3f3",
           "#FF6692",
           "#B6E880",
           "#FF97FF",
           "#FECB52"
          ],
          "font": {
           "color": "#2a3f5f"
          },
          "geo": {
           "bgcolor": "white",
           "lakecolor": "white",
           "landcolor": "#E5ECF6",
           "showlakes": true,
           "showland": true,
           "subunitcolor": "white"
          },
          "hoverlabel": {
           "align": "left"
          },
          "hovermode": "closest",
          "mapbox": {
           "style": "light"
          },
          "paper_bgcolor": "white",
          "plot_bgcolor": "#E5ECF6",
          "polar": {
           "angularaxis": {
            "gridcolor": "white",
            "linecolor": "white",
            "ticks": ""
           },
           "bgcolor": "#E5ECF6",
           "radialaxis": {
            "gridcolor": "white",
            "linecolor": "white",
            "ticks": ""
           }
          },
          "scene": {
           "xaxis": {
            "backgroundcolor": "#E5ECF6",
            "gridcolor": "white",
            "gridwidth": 2,
            "linecolor": "white",
            "showbackground": true,
            "ticks": "",
            "zerolinecolor": "white"
           },
           "yaxis": {
            "backgroundcolor": "#E5ECF6",
            "gridcolor": "white",
            "gridwidth": 2,
            "linecolor": "white",
            "showbackground": true,
            "ticks": "",
            "zerolinecolor": "white"
           },
           "zaxis": {
            "backgroundcolor": "#E5ECF6",
            "gridcolor": "white",
            "gridwidth": 2,
            "linecolor": "white",
            "showbackground": true,
            "ticks": "",
            "zerolinecolor": "white"
           }
          },
          "shapedefaults": {
           "line": {
            "color": "#2a3f5f"
           }
          },
          "ternary": {
           "aaxis": {
            "gridcolor": "white",
            "linecolor": "white",
            "ticks": ""
           },
           "baxis": {
            "gridcolor": "white",
            "linecolor": "white",
            "ticks": ""
           },
           "bgcolor": "#E5ECF6",
           "caxis": {
            "gridcolor": "white",
            "linecolor": "white",
            "ticks": ""
           }
          },
          "title": {
           "x": 0.05
          },
          "xaxis": {
           "automargin": true,
           "gridcolor": "white",
           "linecolor": "white",
           "ticks": "",
           "title": {
            "standoff": 15
           },
           "zerolinecolor": "white",
           "zerolinewidth": 2
          },
          "yaxis": {
           "automargin": true,
           "gridcolor": "white",
           "linecolor": "white",
           "ticks": "",
           "title": {
            "standoff": 15
           },
           "zerolinecolor": "white",
           "zerolinewidth": 2
          }
         }
        },
        "title": {
         "text": "Relationship between % of Chinese population and avg price ratio of condos(with and without four)"
        },
        "xaxis": {
         "anchor": "y",
         "domain": [
          0,
          1
         ],
         "title": {
          "text": "% of Chinese population by neighborhood"
         }
        },
        "yaxis": {
         "anchor": "x",
         "domain": [
          0,
          1
         ],
         "title": {
          "text": "Ratio  by neighborhood"
         }
        }
       }
      },
      "text/html": [
       "<div>\n",
       "        \n",
       "        \n",
       "            <div id=\"54f676de-9155-48a5-bd6b-e1881b0c2466\" class=\"plotly-graph-div\" style=\"height:525px; width:100%;\"></div>\n",
       "            <script type=\"text/javascript\">\n",
       "                require([\"plotly\"], function(Plotly) {\n",
       "                    window.PLOTLYENV=window.PLOTLYENV || {};\n",
       "                    \n",
       "                if (document.getElementById(\"54f676de-9155-48a5-bd6b-e1881b0c2466\")) {\n",
       "                    Plotly.newPlot(\n",
       "                        '54f676de-9155-48a5-bd6b-e1881b0c2466',\n",
       "                        [{\"customdata\": [[\"allerton-pelham gardens\"], [\"battery park city-lower manhattan\"], [\"bayside-bayside hills\"], [\"bedford park-fordham north\"], [\"borough park\"], [\"briarwood-jamaica hills\"], [\"bronxdale\"], [\"brooklyn heights-cobble hill\"], [\"central harlem north-polo grounds\"], [\"clinton hill\"], [\"crotona park east\"], [\"crown heights north\"], [\"dumbo-vinegar hill-downtown brooklyn-boerum hill\"], [\"east elmhurst\"], [\"east flatbush-farragut\"], [\"east flushing\"], [\"east williamsburg\"], [\"eastchester-edenwald-baychester\"], [\"flatlands\"], [\"forest hills\"], [\"fort greene\"], [\"georgetown-marine park-bergen beach-mill basin\"], [\"glen oaks-floral park-new hyde park\"], [\"glendale\"], [\"gramercy\"], [\"gravesend\"], [\"greenpoint\"], [\"hudson yards-chelsea-flat iron-union square\"], [\"hunters point-sunnyside-west maspeth\"], [\"jackson heights\"], [\"jamaica estates-holliswood\"], [\"kensington-ocean parkway\"], [\"kew gardens hills\"], [\"kingsbridge heights\"], [\"lindenwood-howard beach\"], [\"longwood\"], [\"madison\"], [\"marble hill-inwood\"], [\"melrose south-mott haven north\"], [\"midtown-midtown south\"], [\"midwood\"], [\"morningside heights\"], [\"murray hill-kips bay\"], [\"north corona\"], [\"north riverdale-fieldston-riverdale\"], [\"oakland gardens\"], [\"old astoria\"], [\"parkchester\"], [\"prospect lefferts gardens-wingate\"], [\"rego park\"], [\"seagate-coney island\"], [\"sheepshead bay-gerritsen beach-manhattan beach\"], [\"soho-tribeca-civic center-little italy\"], [\"sunset park east\"], [\"upper east side-carnegie hill\"], [\"washington heights north\"], [\"west brighton\"], [\"windsor terrace\"], [\"woodside\"]], \"hovertemplate\": \"% of Chinese population by neighborhood=%{x}<br>Ratio  by neighborhood=%{y}<br>NEIGHBORHOOD=%{customdata[0]}<extra></extra>\", \"legendgroup\": \"\", \"marker\": {\"color\": \"#636efa\", \"symbol\": \"circle\"}, \"mode\": \"markers\", \"name\": \"\", \"orientation\": \"v\", \"showlegend\": false, \"type\": \"scatter\", \"x\": [13.800000000000006, 52.0, 58.19999999999997, 6.799999999999997, 71.89999999999999, 10.39999999999999, 10.5, 36.70000000000003, 34.80000000000004, 34.70000000000003, 42.90000000000003, 24.899999999999995, 59.400000000000055, 22.100000000000005, 12.299999999999981, 65.60000000000025, 74.0, 10.299999999999988, 12.799999999999999, 54.0, 59.0, 55.399999999999984, 7.800000000000004, 35.699999999999996, 38.599999999999945, 76.29999999999998, 28.5, 46.59999999999998, 28.899999999999988, 27.099999999999945, 7.700000000000002, 19.799999999999972, 59.09999999999994, 10.5, 33.099999999999994, 81.0, 76.9, 15.1, 18.89999999999999, 36.700000000000095, 31.5, 55.399999999999984, 42.600000000000044, 69.0, 29.199999999999932, 61.900000000000006, 13.700000000000014, 4.400000000000003, 34.79999999999999, 47.0, 70.29999999999997, 73.39999999999988, 71.80000000000008, 92.79999999999998, 32.40000000000031, 24.09999999999996, 9.399999999999991, 31.699999999999992, 26.700000000000017], \"xaxis\": \"x\", \"y\": [1.00222887603553, 1.4709330893280816, 0.9898588404195395, 1.0952230370412297, 1.092710312162543, 1.2778039175071847, 1.0305353859987274, 1.0357057208957463, 1.1179194828559775, 1.0223471581528132, 1.519103817889276, 0.6751865572355884, 0.9734889227762995, 1.4822291749947734, 1.0791114085847135, 0.6717008165380591, 1.2902415192412906, 1.2812624356015136, 1.1514570785789753, 1.0313217300600803, 1.0487791016612105, 0.7677194030067895, 1.145023832456967, 0.9560929665832328, 0.9366060987234711, 0.779481455173865, 1.4697188973203112, 1.0494729713651227, 1.3043700104882963, 1.1971790341492603, 1.1460319063448365, 1.1970892831576236, 1.0855894109758095, 1.014289566271933, 1.2696411185577592, 1.3593603148053677, 0.7915064475843664, 1.0779408421740155, 1.371085675412468, 0.9619461572006114, 1.182584334923698, 0.8312343969858116, 0.9662865238604359, 1.1380067691688476, 0.9381837588218609, 1.1127990184628023, 1.10371180715707, 1.4757289572095926, 1.096926267867191, 1.162427092467459, 1.142424607889066, 0.7680100406713616, 1.180368713197368, 0.7633017230901523, 1.1305623467626615, 1.0899654302628647, 0.6497278462993211, 1.1536371460266552, 1.1035365832158228], \"yaxis\": \"y\"}],\n",
       "                        {\"legend\": {\"tracegroupgap\": 0}, \"template\": {\"data\": {\"bar\": [{\"error_x\": {\"color\": \"#2a3f5f\"}, \"error_y\": {\"color\": \"#2a3f5f\"}, \"marker\": {\"line\": {\"color\": \"#E5ECF6\", \"width\": 0.5}}, \"type\": \"bar\"}], \"barpolar\": [{\"marker\": {\"line\": {\"color\": \"#E5ECF6\", \"width\": 0.5}}, \"type\": \"barpolar\"}], \"carpet\": [{\"aaxis\": {\"endlinecolor\": \"#2a3f5f\", \"gridcolor\": \"white\", \"linecolor\": \"white\", \"minorgridcolor\": \"white\", \"startlinecolor\": \"#2a3f5f\"}, \"baxis\": {\"endlinecolor\": \"#2a3f5f\", \"gridcolor\": \"white\", \"linecolor\": \"white\", \"minorgridcolor\": \"white\", \"startlinecolor\": \"#2a3f5f\"}, \"type\": \"carpet\"}], \"choropleth\": [{\"colorbar\": {\"outlinewidth\": 0, \"ticks\": \"\"}, \"type\": \"choropleth\"}], \"contour\": [{\"colorbar\": {\"outlinewidth\": 0, \"ticks\": \"\"}, \"colorscale\": [[0.0, \"#0d0887\"], [0.1111111111111111, \"#46039f\"], [0.2222222222222222, \"#7201a8\"], [0.3333333333333333, \"#9c179e\"], [0.4444444444444444, \"#bd3786\"], [0.5555555555555556, \"#d8576b\"], [0.6666666666666666, \"#ed7953\"], [0.7777777777777778, \"#fb9f3a\"], [0.8888888888888888, \"#fdca26\"], [1.0, \"#f0f921\"]], \"type\": \"contour\"}], \"contourcarpet\": [{\"colorbar\": {\"outlinewidth\": 0, \"ticks\": \"\"}, \"type\": \"contourcarpet\"}], \"heatmap\": [{\"colorbar\": {\"outlinewidth\": 0, \"ticks\": \"\"}, \"colorscale\": [[0.0, \"#0d0887\"], [0.1111111111111111, \"#46039f\"], [0.2222222222222222, \"#7201a8\"], [0.3333333333333333, \"#9c179e\"], [0.4444444444444444, \"#bd3786\"], [0.5555555555555556, \"#d8576b\"], [0.6666666666666666, \"#ed7953\"], [0.7777777777777778, \"#fb9f3a\"], [0.8888888888888888, \"#fdca26\"], [1.0, \"#f0f921\"]], \"type\": \"heatmap\"}], \"heatmapgl\": [{\"colorbar\": {\"outlinewidth\": 0, \"ticks\": \"\"}, \"colorscale\": [[0.0, \"#0d0887\"], [0.1111111111111111, \"#46039f\"], [0.2222222222222222, \"#7201a8\"], [0.3333333333333333, \"#9c179e\"], [0.4444444444444444, \"#bd3786\"], [0.5555555555555556, \"#d8576b\"], [0.6666666666666666, \"#ed7953\"], [0.7777777777777778, \"#fb9f3a\"], [0.8888888888888888, \"#fdca26\"], [1.0, \"#f0f921\"]], \"type\": \"heatmapgl\"}], \"histogram\": [{\"marker\": {\"colorbar\": {\"outlinewidth\": 0, \"ticks\": \"\"}}, \"type\": \"histogram\"}], \"histogram2d\": [{\"colorbar\": {\"outlinewidth\": 0, \"ticks\": \"\"}, \"colorscale\": [[0.0, \"#0d0887\"], [0.1111111111111111, \"#46039f\"], [0.2222222222222222, \"#7201a8\"], [0.3333333333333333, \"#9c179e\"], [0.4444444444444444, \"#bd3786\"], [0.5555555555555556, \"#d8576b\"], [0.6666666666666666, \"#ed7953\"], [0.7777777777777778, \"#fb9f3a\"], [0.8888888888888888, \"#fdca26\"], [1.0, \"#f0f921\"]], \"type\": \"histogram2d\"}], \"histogram2dcontour\": [{\"colorbar\": {\"outlinewidth\": 0, \"ticks\": \"\"}, \"colorscale\": [[0.0, \"#0d0887\"], [0.1111111111111111, \"#46039f\"], [0.2222222222222222, \"#7201a8\"], [0.3333333333333333, \"#9c179e\"], [0.4444444444444444, \"#bd3786\"], [0.5555555555555556, \"#d8576b\"], [0.6666666666666666, \"#ed7953\"], [0.7777777777777778, \"#fb9f3a\"], [0.8888888888888888, \"#fdca26\"], [1.0, \"#f0f921\"]], \"type\": \"histogram2dcontour\"}], \"mesh3d\": [{\"colorbar\": {\"outlinewidth\": 0, \"ticks\": \"\"}, \"type\": \"mesh3d\"}], \"parcoords\": [{\"line\": {\"colorbar\": {\"outlinewidth\": 0, \"ticks\": \"\"}}, \"type\": \"parcoords\"}], \"pie\": [{\"automargin\": true, \"type\": \"pie\"}], \"scatter\": [{\"marker\": {\"colorbar\": {\"outlinewidth\": 0, \"ticks\": \"\"}}, \"type\": \"scatter\"}], \"scatter3d\": [{\"line\": {\"colorbar\": {\"outlinewidth\": 0, \"ticks\": \"\"}}, \"marker\": {\"colorbar\": {\"outlinewidth\": 0, \"ticks\": \"\"}}, \"type\": \"scatter3d\"}], \"scattercarpet\": [{\"marker\": {\"colorbar\": {\"outlinewidth\": 0, \"ticks\": \"\"}}, \"type\": \"scattercarpet\"}], \"scattergeo\": [{\"marker\": {\"colorbar\": {\"outlinewidth\": 0, \"ticks\": \"\"}}, \"type\": \"scattergeo\"}], \"scattergl\": [{\"marker\": {\"colorbar\": {\"outlinewidth\": 0, \"ticks\": \"\"}}, \"type\": \"scattergl\"}], \"scattermapbox\": [{\"marker\": {\"colorbar\": {\"outlinewidth\": 0, \"ticks\": \"\"}}, \"type\": \"scattermapbox\"}], \"scatterpolar\": [{\"marker\": {\"colorbar\": {\"outlinewidth\": 0, \"ticks\": \"\"}}, \"type\": \"scatterpolar\"}], \"scatterpolargl\": [{\"marker\": {\"colorbar\": {\"outlinewidth\": 0, \"ticks\": \"\"}}, \"type\": \"scatterpolargl\"}], \"scatterternary\": [{\"marker\": {\"colorbar\": {\"outlinewidth\": 0, \"ticks\": \"\"}}, \"type\": \"scatterternary\"}], \"surface\": [{\"colorbar\": {\"outlinewidth\": 0, \"ticks\": \"\"}, \"colorscale\": [[0.0, \"#0d0887\"], [0.1111111111111111, \"#46039f\"], [0.2222222222222222, \"#7201a8\"], [0.3333333333333333, \"#9c179e\"], [0.4444444444444444, \"#bd3786\"], [0.5555555555555556, \"#d8576b\"], [0.6666666666666666, \"#ed7953\"], [0.7777777777777778, \"#fb9f3a\"], [0.8888888888888888, \"#fdca26\"], [1.0, \"#f0f921\"]], \"type\": \"surface\"}], \"table\": [{\"cells\": {\"fill\": {\"color\": \"#EBF0F8\"}, \"line\": {\"color\": \"white\"}}, \"header\": {\"fill\": {\"color\": \"#C8D4E3\"}, \"line\": {\"color\": \"white\"}}, \"type\": \"table\"}]}, \"layout\": {\"annotationdefaults\": {\"arrowcolor\": \"#2a3f5f\", \"arrowhead\": 0, \"arrowwidth\": 1}, \"coloraxis\": {\"colorbar\": {\"outlinewidth\": 0, \"ticks\": \"\"}}, \"colorscale\": {\"diverging\": [[0, \"#8e0152\"], [0.1, \"#c51b7d\"], [0.2, \"#de77ae\"], [0.3, \"#f1b6da\"], [0.4, \"#fde0ef\"], [0.5, \"#f7f7f7\"], [0.6, \"#e6f5d0\"], [0.7, \"#b8e186\"], [0.8, \"#7fbc41\"], [0.9, \"#4d9221\"], [1, \"#276419\"]], \"sequential\": [[0.0, \"#0d0887\"], [0.1111111111111111, \"#46039f\"], [0.2222222222222222, \"#7201a8\"], [0.3333333333333333, \"#9c179e\"], [0.4444444444444444, \"#bd3786\"], [0.5555555555555556, \"#d8576b\"], [0.6666666666666666, \"#ed7953\"], [0.7777777777777778, \"#fb9f3a\"], [0.8888888888888888, \"#fdca26\"], [1.0, \"#f0f921\"]], \"sequentialminus\": [[0.0, \"#0d0887\"], [0.1111111111111111, \"#46039f\"], [0.2222222222222222, \"#7201a8\"], [0.3333333333333333, \"#9c179e\"], [0.4444444444444444, \"#bd3786\"], [0.5555555555555556, \"#d8576b\"], [0.6666666666666666, \"#ed7953\"], [0.7777777777777778, \"#fb9f3a\"], [0.8888888888888888, \"#fdca26\"], [1.0, \"#f0f921\"]]}, \"colorway\": [\"#636efa\", \"#EF553B\", \"#00cc96\", \"#ab63fa\", \"#FFA15A\", \"#19d3f3\", \"#FF6692\", \"#B6E880\", \"#FF97FF\", \"#FECB52\"], \"font\": {\"color\": \"#2a3f5f\"}, \"geo\": {\"bgcolor\": \"white\", \"lakecolor\": \"white\", \"landcolor\": \"#E5ECF6\", \"showlakes\": true, \"showland\": true, \"subunitcolor\": \"white\"}, \"hoverlabel\": {\"align\": \"left\"}, \"hovermode\": \"closest\", \"mapbox\": {\"style\": \"light\"}, \"paper_bgcolor\": \"white\", \"plot_bgcolor\": \"#E5ECF6\", \"polar\": {\"angularaxis\": {\"gridcolor\": \"white\", \"linecolor\": \"white\", \"ticks\": \"\"}, \"bgcolor\": \"#E5ECF6\", \"radialaxis\": {\"gridcolor\": \"white\", \"linecolor\": \"white\", \"ticks\": \"\"}}, \"scene\": {\"xaxis\": {\"backgroundcolor\": \"#E5ECF6\", \"gridcolor\": \"white\", \"gridwidth\": 2, \"linecolor\": \"white\", \"showbackground\": true, \"ticks\": \"\", \"zerolinecolor\": \"white\"}, \"yaxis\": {\"backgroundcolor\": \"#E5ECF6\", \"gridcolor\": \"white\", \"gridwidth\": 2, \"linecolor\": \"white\", \"showbackground\": true, \"ticks\": \"\", \"zerolinecolor\": \"white\"}, \"zaxis\": {\"backgroundcolor\": \"#E5ECF6\", \"gridcolor\": \"white\", \"gridwidth\": 2, \"linecolor\": \"white\", \"showbackground\": true, \"ticks\": \"\", \"zerolinecolor\": \"white\"}}, \"shapedefaults\": {\"line\": {\"color\": \"#2a3f5f\"}}, \"ternary\": {\"aaxis\": {\"gridcolor\": \"white\", \"linecolor\": \"white\", \"ticks\": \"\"}, \"baxis\": {\"gridcolor\": \"white\", \"linecolor\": \"white\", \"ticks\": \"\"}, \"bgcolor\": \"#E5ECF6\", \"caxis\": {\"gridcolor\": \"white\", \"linecolor\": \"white\", \"ticks\": \"\"}}, \"title\": {\"x\": 0.05}, \"xaxis\": {\"automargin\": true, \"gridcolor\": \"white\", \"linecolor\": \"white\", \"ticks\": \"\", \"title\": {\"standoff\": 15}, \"zerolinecolor\": \"white\", \"zerolinewidth\": 2}, \"yaxis\": {\"automargin\": true, \"gridcolor\": \"white\", \"linecolor\": \"white\", \"ticks\": \"\", \"title\": {\"standoff\": 15}, \"zerolinecolor\": \"white\", \"zerolinewidth\": 2}}}, \"title\": {\"text\": \"Relationship between % of Chinese population and avg price ratio of condos(with and without four)\"}, \"xaxis\": {\"anchor\": \"y\", \"domain\": [0.0, 1.0], \"title\": {\"text\": \"% of Chinese population by neighborhood\"}}, \"yaxis\": {\"anchor\": \"x\", \"domain\": [0.0, 1.0], \"title\": {\"text\": \"Ratio  by neighborhood\"}}},\n",
       "                        {\"responsive\": true}\n",
       "                    ).then(function(){\n",
       "                            \n",
       "var gd = document.getElementById('54f676de-9155-48a5-bd6b-e1881b0c2466');\n",
       "var x = new MutationObserver(function (mutations, observer) {{\n",
       "        var display = window.getComputedStyle(gd).display;\n",
       "        if (!display || display === 'none') {{\n",
       "            console.log([gd, 'removed!']);\n",
       "            Plotly.purge(gd);\n",
       "            observer.disconnect();\n",
       "        }}\n",
       "}});\n",
       "\n",
       "// Listen for the removal of the full notebook cells\n",
       "var notebookContainer = gd.closest('#notebook-container');\n",
       "if (notebookContainer) {{\n",
       "    x.observe(notebookContainer, {childList: true});\n",
       "}}\n",
       "\n",
       "// Listen for the clearing of the current output cell\n",
       "var outputEl = gd.closest('.output');\n",
       "if (outputEl) {{\n",
       "    x.observe(outputEl, {childList: true});\n",
       "}}\n",
       "\n",
       "                        })\n",
       "                };\n",
       "                });\n",
       "            </script>\n",
       "        </div>"
      ]
     },
     "metadata": {},
     "output_type": "display_data"
    }
   ],
   "source": [
    "fig = px.scatter(four, x=\"AsnChiNoTP_Mean\", y=\"ratio\", \n",
    "                hover_data=['NEIGHBORHOOD'],\n",
    "                labels={\n",
    "                     \"AsnChiNoTP_Mean\": \"% of Chinese population by neighborhood\",\n",
    "                     \"ratio\": \"Ratio  by neighborhood\",\n",
    "                 },\n",
    "                title=\"Relationship between % of Chinese population and avg price ratio of condos(with and without four)\")\n",
    "fig.show()"
   ]
  },
  {
   "cell_type": "markdown",
   "metadata": {},
   "source": [
    "We can tell from the graph that neighborhoods with more Chinese population have smaller ratio, suggesting that on averge, condos with floor number ending in 4 have a lower price than that ending without 4. "
   ]
  },
  {
   "cell_type": "code",
   "execution_count": 273,
   "metadata": {
    "scrolled": true
   },
   "outputs": [
    {
     "data": {
      "image/png": "[encoded data removed]",
      "text/plain": [
       "<Figure size 1440x360 with 1 Axes>"
      ]
     },
     "metadata": {},
     "output_type": "display_data"
    }
   ],
   "source": [
    "plt.figure(figsize=(20,5))\n",
    "ax = sns.regplot( x=\"AsnChiNoTP_Mean\", y=\"ratio\", data=four)\n",
    "# ax.set(ylim=(-0.4, 0.4))"
   ]
  },
  {
   "cell_type": "markdown",
   "metadata": {},
   "source": [
    "Applying the same function to calculate avg price of condos with floor number ending in 8 and that ending without 8."
   ]
  },
  {
   "cell_type": "code",
   "execution_count": 274,
   "metadata": {},
   "outputs": [],
   "source": [
    "eight = comparePrice(noNan, \"floornum_end_eight\", 10)"
   ]
  },
  {
   "cell_type": "code",
   "execution_count": 283,
   "metadata": {},
   "outputs": [
    {
     "data": {
      "application/vnd.plotly.v1+json": {
       "config": {
        "plotlyServerURL": "https://plot.ly"
       },
       "data": [
        {
         "customdata": [
          [
           "battery park city-lower manhattan"
          ],
          [
           "bayside-bayside hills"
          ],
          [
           "briarwood-jamaica hills"
          ],
          [
           "brooklyn heights-cobble hill"
          ],
          [
           "central harlem north-polo grounds"
          ],
          [
           "clinton hill"
          ],
          [
           "crotona park east"
          ],
          [
           "dumbo-vinegar hill-downtown brooklyn-boerum hill"
          ],
          [
           "east flatbush-farragut"
          ],
          [
           "east flushing"
          ],
          [
           "east williamsburg"
          ],
          [
           "eastchester-edenwald-baychester"
          ],
          [
           "forest hills"
          ],
          [
           "fort greene"
          ],
          [
           "glen oaks-floral park-new hyde park"
          ],
          [
           "gramercy"
          ],
          [
           "greenpoint"
          ],
          [
           "hudson yards-chelsea-flat iron-union square"
          ],
          [
           "jackson heights"
          ],
          [
           "jamaica estates-holliswood"
          ],
          [
           "kingsbridge heights"
          ],
          [
           "longwood"
          ],
          [
           "midtown-midtown south"
          ],
          [
           "midwood"
          ],
          [
           "morningside heights"
          ],
          [
           "murray hill-kips bay"
          ],
          [
           "north riverdale-fieldston-riverdale"
          ],
          [
           "old astoria"
          ],
          [
           "parkchester"
          ],
          [
           "rego park"
          ],
          [
           "seagate-coney island"
          ],
          [
           "sheepshead bay-gerritsen beach-manhattan beach"
          ],
          [
           "soho-tribeca-civic center-little italy"
          ],
          [
           "upper east side-carnegie hill"
          ],
          [
           "washington heights north"
          ],
          [
           "west brighton"
          ]
         ],
         "hovertemplate": "% of Chinese population by neighborhood=%{x}<br>Ratio  by neighborhood=%{y}<br>NEIGHBORHOOD=%{customdata[0]}<extra></extra>",
         "legendgroup": "",
         "marker": {
          "color": "#636efa",
          "symbol": "circle"
         },
         "mode": "markers",
         "name": "",
         "orientation": "v",
         "showlegend": false,
         "type": "scatter",
         "x": [
          52,
          58.2,
          10.400000000000002,
          36.70000000000002,
          34.79999999999998,
          34.70000000000001,
          42.899999999999984,
          59.40000000000004,
          12.299999999999999,
          65.59999999999995,
          74,
          10.300000000000004,
          54,
          59,
          7.800000000000004,
          38.599999999999966,
          28.5,
          46.599999999999945,
          27.100000000000012,
          7.700000000000001,
          10.5,
          81,
          36.699999999999875,
          31.5,
          55.399999999999984,
          42.59999999999994,
          29.200000000000028,
          13.699999999999998,
          4.3999999999999995,
          47,
          70.29999999999997,
          73.40000000000003,
          71.80000000000004,
          32.39999999999976,
          24.100000000000012,
          9.400000000000002
         ],
         "xaxis": "x",
         "y": [
          1.6518006370820544,
          1.5186876160157083,
          0.9084201515000997,
          1.0324424063187116,
          1.5122619069711618,
          0.8855191196529568,
          1.4811229080263844,
          1.0556447609709374,
          0.9717383270589728,
          0.9185389893124118,
          1.0986820964938162,
          1.0943516498235155,
          1.2502486810481366,
          1.3999861706636256,
          0.7572853094886629,
          0.7705434774749692,
          1.6780899371356621,
          0.9569551072978227,
          1.0530489033782944,
          1.2442887245339704,
          1.1616197134310167,
          1.2059239019134964,
          0.9908845279080449,
          1.2913143612722806,
          1.45739549701999,
          1.1132484447866005,
          1.2717275664600314,
          0.9395073887579224,
          0.7739367933277495,
          1.0147304004973705,
          0.7717931600381167,
          1.117865027869135,
          1.0154439773192736,
          1.1450236058054915,
          1.482976870211827,
          0.9965334885575945
         ],
         "yaxis": "y"
        }
       ],
       "layout": {
        "legend": {
         "tracegroupgap": 0
        },
        "template": {
         "data": {
          "bar": [
           {
            "error_x": {
             "color": "#2a3f5f"
            },
            "error_y": {
             "color": "#2a3f5f"
            },
            "marker": {
             "line": {
              "color": "#E5ECF6",
              "width": 0.5
             }
            },
            "type": "bar"
           }
          ],
          "barpolar": [
           {
            "marker": {
             "line": {
              "color": "#E5ECF6",
              "width": 0.5
             }
            },
            "type": "barpolar"
           }
          ],
          "carpet": [
           {
            "aaxis": {
             "endlinecolor": "#2a3f5f",
             "gridcolor": "white",
             "linecolor": "white",
             "minorgridcolor": "white",
             "startlinecolor": "#2a3f5f"
            },
            "baxis": {
             "endlinecolor": "#2a3f5f",
             "gridcolor": "white",
             "linecolor": "white",
             "minorgridcolor": "white",
             "startlinecolor": "#2a3f5f"
            },
            "type": "carpet"
           }
          ],
          "choropleth": [
           {
            "colorbar": {
             "outlinewidth": 0,
             "ticks": ""
            },
            "type": "choropleth"
           }
          ],
          "contour": [
           {
            "colorbar": {
             "outlinewidth": 0,
             "ticks": ""
            },
            "colorscale": [
             [
              0,
              "#0d0887"
             ],
             [
              0.1111111111111111,
              "#46039f"
             ],
             [
              0.2222222222222222,
              "#7201a8"
             ],
             [
              0.3333333333333333,
              "#9c179e"
             ],
             [
              0.4444444444444444,
              "#bd3786"
             ],
             [
              0.5555555555555556,
              "#d8576b"
             ],
             [
              0.6666666666666666,
              "#ed7953"
             ],
             [
              0.7777777777777778,
              "#fb9f3a"
             ],
             [
              0.8888888888888888,
              "#fdca26"
             ],
             [
              1,
              "#f0f921"
             ]
            ],
            "type": "contour"
           }
          ],
          "contourcarpet": [
           {
            "colorbar": {
             "outlinewidth": 0,
             "ticks": ""
            },
            "type": "contourcarpet"
           }
          ],
          "heatmap": [
           {
            "colorbar": {
             "outlinewidth": 0,
             "ticks": ""
            },
            "colorscale": [
             [
              0,
              "#0d0887"
             ],
             [
              0.1111111111111111,
              "#46039f"
             ],
             [
              0.2222222222222222,
              "#7201a8"
             ],
             [
              0.3333333333333333,
              "#9c179e"
             ],
             [
              0.4444444444444444,
              "#bd3786"
             ],
             [
              0.5555555555555556,
              "#d8576b"
             ],
             [
              0.6666666666666666,
              "#ed7953"
             ],
             [
              0.7777777777777778,
              "#fb9f3a"
             ],
             [
              0.8888888888888888,
              "#fdca26"
             ],
             [
              1,
              "#f0f921"
             ]
            ],
            "type": "heatmap"
           }
          ],
          "heatmapgl": [
           {
            "colorbar": {
             "outlinewidth": 0,
             "ticks": ""
            },
            "colorscale": [
             [
              0,
              "#0d0887"
             ],
             [
              0.1111111111111111,
              "#46039f"
             ],
             [
              0.2222222222222222,
              "#7201a8"
             ],
             [
              0.3333333333333333,
              "#9c179e"
             ],
             [
              0.4444444444444444,
              "#bd3786"
             ],
             [
              0.5555555555555556,
              "#d8576b"
             ],
             [
              0.6666666666666666,
              "#ed7953"
             ],
             [
              0.7777777777777778,
              "#fb9f3a"
             ],
             [
              0.8888888888888888,
              "#fdca26"
             ],
             [
              1,
              "#f0f921"
             ]
            ],
            "type": "heatmapgl"
           }
          ],
          "histogram": [
           {
            "marker": {
             "colorbar": {
              "outlinewidth": 0,
              "ticks": ""
             }
            },
            "type": "histogram"
           }
          ],
          "histogram2d": [
           {
            "colorbar": {
             "outlinewidth": 0,
             "ticks": ""
            },
            "colorscale": [
             [
              0,
              "#0d0887"
             ],
             [
              0.1111111111111111,
              "#46039f"
             ],
             [
              0.2222222222222222,
              "#7201a8"
             ],
             [
              0.3333333333333333,
              "#9c179e"
             ],
             [
              0.4444444444444444,
              "#bd3786"
             ],
             [
              0.5555555555555556,
              "#d8576b"
             ],
             [
              0.6666666666666666,
              "#ed7953"
             ],
             [
              0.7777777777777778,
              "#fb9f3a"
             ],
             [
              0.8888888888888888,
              "#fdca26"
             ],
             [
              1,
              "#f0f921"
             ]
            ],
            "type": "histogram2d"
           }
          ],
          "histogram2dcontour": [
           {
            "colorbar": {
             "outlinewidth": 0,
             "ticks": ""
            },
            "colorscale": [
             [
              0,
              "#0d0887"
             ],
             [
              0.1111111111111111,
              "#46039f"
             ],
             [
              0.2222222222222222,
              "#7201a8"
             ],
             [
              0.3333333333333333,
              "#9c179e"
             ],
             [
              0.4444444444444444,
              "#bd3786"
             ],
             [
              0.5555555555555556,
              "#d8576b"
             ],
             [
              0.6666666666666666,
              "#ed7953"
             ],
             [
              0.7777777777777778,
              "#fb9f3a"
             ],
             [
              0.8888888888888888,
              "#fdca26"
             ],
             [
              1,
              "#f0f921"
             ]
            ],
            "type": "histogram2dcontour"
           }
          ],
          "mesh3d": [
           {
            "colorbar": {
             "outlinewidth": 0,
             "ticks": ""
            },
            "type": "mesh3d"
           }
          ],
          "parcoords": [
           {
            "line": {
             "colorbar": {
              "outlinewidth": 0,
              "ticks": ""
             }
            },
            "type": "parcoords"
           }
          ],
          "pie": [
           {
            "automargin": true,
            "type": "pie"
           }
          ],
          "scatter": [
           {
            "marker": {
             "colorbar": {
              "outlinewidth": 0,
              "ticks": ""
             }
            },
            "type": "scatter"
           }
          ],
          "scatter3d": [
           {
            "line": {
             "colorbar": {
              "outlinewidth": 0,
              "ticks": ""
             }
            },
            "marker": {
             "colorbar": {
              "outlinewidth": 0,
              "ticks": ""
             }
            },
            "type": "scatter3d"
           }
          ],
          "scattercarpet": [
           {
            "marker": {
             "colorbar": {
              "outlinewidth": 0,
              "ticks": ""
             }
            },
            "type": "scattercarpet"
           }
          ],
          "scattergeo": [
           {
            "marker": {
             "colorbar": {
              "outlinewidth": 0,
              "ticks": ""
             }
            },
            "type": "scattergeo"
           }
          ],
          "scattergl": [
           {
            "marker": {
             "colorbar": {
              "outlinewidth": 0,
              "ticks": ""
             }
            },
            "type": "scattergl"
           }
          ],
          "scattermapbox": [
           {
            "marker": {
             "colorbar": {
              "outlinewidth": 0,
              "ticks": ""
             }
            },
            "type": "scattermapbox"
           }
          ],
          "scatterpolar": [
           {
            "marker": {
             "colorbar": {
              "outlinewidth": 0,
              "ticks": ""
             }
            },
            "type": "scatterpolar"
           }
          ],
          "scatterpolargl": [
           {
            "marker": {
             "colorbar": {
              "outlinewidth": 0,
              "ticks": ""
             }
            },
            "type": "scatterpolargl"
           }
          ],
          "scatterternary": [
           {
            "marker": {
             "colorbar": {
              "outlinewidth": 0,
              "ticks": ""
             }
            },
            "type": "scatterternary"
           }
          ],
          "surface": [
           {
            "colorbar": {
             "outlinewidth": 0,
             "ticks": ""
            },
            "colorscale": [
             [
              0,
              "#0d0887"
             ],
             [
              0.1111111111111111,
              "#46039f"
             ],
             [
              0.2222222222222222,
              "#7201a8"
             ],
             [
              0.3333333333333333,
              "#9c179e"
             ],
             [
              0.4444444444444444,
              "#bd3786"
             ],
             [
              0.5555555555555556,
              "#d8576b"
             ],
             [
              0.6666666666666666,
              "#ed7953"
             ],
             [
              0.7777777777777778,
              "#fb9f3a"
             ],
             [
              0.8888888888888888,
              "#fdca26"
             ],
             [
              1,
              "#f0f921"
             ]
            ],
            "type": "surface"
           }
          ],
          "table": [
           {
            "cells": {
             "fill": {
              "color": "#EBF0F8"
             },
             "line": {
              "color": "white"
             }
            },
            "header": {
             "fill": {
              "color": "#C8D4E3"
             },
             "line": {
              "color": "white"
             }
            },
            "type": "table"
           }
          ]
         },
         "layout": {
          "annotationdefaults": {
           "arrowcolor": "#2a3f5f",
           "arrowhead": 0,
           "arrowwidth": 1
          },
          "coloraxis": {
           "colorbar": {
            "outlinewidth": 0,
            "ticks": ""
           }
          },
          "colorscale": {
           "diverging": [
            [
             0,
             "#8e0152"
            ],
            [
             0.1,
             "#c51b7d"
            ],
            [
             0.2,
             "#de77ae"
            ],
            [
             0.3,
             "#f1b6da"
            ],
            [
             0.4,
             "#fde0ef"
            ],
            [
             0.5,
             "#f7f7f7"
            ],
            [
             0.6,
             "#e6f5d0"
            ],
            [
             0.7,
             "#b8e186"
            ],
            [
             0.8,
             "#7fbc41"
            ],
            [
             0.9,
             "#4d9221"
            ],
            [
             1,
             "#276419"
            ]
           ],
           "sequential": [
            [
             0,
             "#0d0887"
            ],
            [
             0.1111111111111111,
             "#46039f"
            ],
            [
             0.2222222222222222,
             "#7201a8"
            ],
            [
             0.3333333333333333,
             "#9c179e"
            ],
            [
             0.4444444444444444,
             "#bd3786"
            ],
            [
             0.5555555555555556,
             "#d8576b"
            ],
            [
             0.6666666666666666,
             "#ed7953"
            ],
            [
             0.7777777777777778,
             "#fb9f3a"
            ],
            [
             0.8888888888888888,
             "#fdca26"
            ],
            [
             1,
             "#f0f921"
            ]
           ],
           "sequentialminus": [
            [
             0,
             "#0d0887"
            ],
            [
             0.1111111111111111,
             "#46039f"
            ],
            [
             0.2222222222222222,
             "#7201a8"
            ],
            [
             0.3333333333333333,
             "#9c179e"
            ],
            [
             0.4444444444444444,
             "#bd3786"
            ],
            [
             0.5555555555555556,
             "#d8576b"
            ],
            [
             0.6666666666666666,
             "#ed7953"
            ],
            [
             0.7777777777777778,
             "#fb9f3a"
            ],
            [
             0.8888888888888888,
             "#fdca26"
            ],
            [
             1,
             "#f0f921"
            ]
           ]
          },
          "colorway": [
           "#636efa",
           "#EF553B",
           "#00cc96",
           "#ab63fa",
           "#FFA15A",
           "#19d3f3",
           "#FF6692",
           "#B6E880",
           "#FF97FF",
           "#FECB52"
          ],
          "font": {
           "color": "#2a3f5f"
          },
          "geo": {
           "bgcolor": "white",
           "lakecolor": "white",
           "landcolor": "#E5ECF6",
           "showlakes": true,
           "showland": true,
           "subunitcolor": "white"
          },
          "hoverlabel": {
           "align": "left"
          },
          "hovermode": "closest",
          "mapbox": {
           "style": "light"
          },
          "paper_bgcolor": "white",
          "plot_bgcolor": "#E5ECF6",
          "polar": {
           "angularaxis": {
            "gridcolor": "white",
            "linecolor": "white",
            "ticks": ""
           },
           "bgcolor": "#E5ECF6",
           "radialaxis": {
            "gridcolor": "white",
            "linecolor": "white",
            "ticks": ""
           }
          },
          "scene": {
           "xaxis": {
            "backgroundcolor": "#E5ECF6",
            "gridcolor": "white",
            "gridwidth": 2,
            "linecolor": "white",
            "showbackground": true,
            "ticks": "",
            "zerolinecolor": "white"
           },
           "yaxis": {
            "backgroundcolor": "#E5ECF6",
            "gridcolor": "white",
            "gridwidth": 2,
            "linecolor": "white",
            "showbackground": true,
            "ticks": "",
            "zerolinecolor": "white"
           },
           "zaxis": {
            "backgroundcolor": "#E5ECF6",
            "gridcolor": "white",
            "gridwidth": 2,
            "linecolor": "white",
            "showbackground": true,
            "ticks": "",
            "zerolinecolor": "white"
           }
          },
          "shapedefaults": {
           "line": {
            "color": "#2a3f5f"
           }
          },
          "ternary": {
           "aaxis": {
            "gridcolor": "white",
            "linecolor": "white",
            "ticks": ""
           },
           "baxis": {
            "gridcolor": "white",
            "linecolor": "white",
            "ticks": ""
           },
           "bgcolor": "#E5ECF6",
           "caxis": {
            "gridcolor": "white",
            "linecolor": "white",
            "ticks": ""
           }
          },
          "title": {
           "x": 0.05
          },
          "xaxis": {
           "automargin": true,
           "gridcolor": "white",
           "linecolor": "white",
           "ticks": "",
           "title": {
            "standoff": 15
           },
           "zerolinecolor": "white",
           "zerolinewidth": 2
          },
          "yaxis": {
           "automargin": true,
           "gridcolor": "white",
           "linecolor": "white",
           "ticks": "",
           "title": {
            "standoff": 15
           },
           "zerolinecolor": "white",
           "zerolinewidth": 2
          }
         }
        },
        "title": {
         "text": "Relationship between % of Chinese population and avg price ratio of condos(with and without eight)"
        },
        "xaxis": {
         "anchor": "y",
         "domain": [
          0,
          1
         ],
         "title": {
          "text": "% of Chinese population by neighborhood"
         }
        },
        "yaxis": {
         "anchor": "x",
         "domain": [
          0,
          1
         ],
         "title": {
          "text": "Ratio  by neighborhood"
         }
        }
       }
      },
      "text/html": [
       "<div>\n",
       "        \n",
       "        \n",
       "            <div id=\"ede24df3-034a-46cc-a578-0f378b925978\" class=\"plotly-graph-div\" style=\"height:525px; width:100%;\"></div>\n",
       "            <script type=\"text/javascript\">\n",
       "                require([\"plotly\"], function(Plotly) {\n",
       "                    window.PLOTLYENV=window.PLOTLYENV || {};\n",
       "                    \n",
       "                if (document.getElementById(\"ede24df3-034a-46cc-a578-0f378b925978\")) {\n",
       "                    Plotly.newPlot(\n",
       "                        'ede24df3-034a-46cc-a578-0f378b925978',\n",
       "                        [{\"customdata\": [[\"battery park city-lower manhattan\"], [\"bayside-bayside hills\"], [\"briarwood-jamaica hills\"], [\"brooklyn heights-cobble hill\"], [\"central harlem north-polo grounds\"], [\"clinton hill\"], [\"crotona park east\"], [\"dumbo-vinegar hill-downtown brooklyn-boerum hill\"], [\"east flatbush-farragut\"], [\"east flushing\"], [\"east williamsburg\"], [\"eastchester-edenwald-baychester\"], [\"forest hills\"], [\"fort greene\"], [\"glen oaks-floral park-new hyde park\"], [\"gramercy\"], [\"greenpoint\"], [\"hudson yards-chelsea-flat iron-union square\"], [\"jackson heights\"], [\"jamaica estates-holliswood\"], [\"kingsbridge heights\"], [\"longwood\"], [\"midtown-midtown south\"], [\"midwood\"], [\"morningside heights\"], [\"murray hill-kips bay\"], [\"north riverdale-fieldston-riverdale\"], [\"old astoria\"], [\"parkchester\"], [\"rego park\"], [\"seagate-coney island\"], [\"sheepshead bay-gerritsen beach-manhattan beach\"], [\"soho-tribeca-civic center-little italy\"], [\"upper east side-carnegie hill\"], [\"washington heights north\"], [\"west brighton\"]], \"hovertemplate\": \"% of Chinese population by neighborhood=%{x}<br>Ratio  by neighborhood=%{y}<br>NEIGHBORHOOD=%{customdata[0]}<extra></extra>\", \"legendgroup\": \"\", \"marker\": {\"color\": \"#636efa\", \"symbol\": \"circle\"}, \"mode\": \"markers\", \"name\": \"\", \"orientation\": \"v\", \"showlegend\": false, \"type\": \"scatter\", \"x\": [52.0, 58.2, 10.400000000000002, 36.70000000000002, 34.79999999999998, 34.70000000000001, 42.899999999999984, 59.40000000000004, 12.299999999999999, 65.59999999999995, 74.0, 10.300000000000004, 54.0, 59.0, 7.800000000000004, 38.599999999999966, 28.5, 46.599999999999945, 27.100000000000012, 7.700000000000001, 10.5, 81.0, 36.699999999999875, 31.5, 55.399999999999984, 42.59999999999994, 29.200000000000028, 13.699999999999998, 4.3999999999999995, 47.0, 70.29999999999997, 73.40000000000003, 71.80000000000004, 32.39999999999976, 24.100000000000012, 9.400000000000002], \"xaxis\": \"x\", \"y\": [1.6518006370820544, 1.5186876160157083, 0.9084201515000997, 1.0324424063187116, 1.5122619069711618, 0.8855191196529568, 1.4811229080263844, 1.0556447609709374, 0.9717383270589728, 0.9185389893124118, 1.0986820964938162, 1.0943516498235155, 1.2502486810481366, 1.3999861706636256, 0.7572853094886629, 0.7705434774749692, 1.6780899371356621, 0.9569551072978227, 1.0530489033782944, 1.2442887245339704, 1.1616197134310167, 1.2059239019134964, 0.9908845279080449, 1.2913143612722806, 1.45739549701999, 1.1132484447866005, 1.2717275664600314, 0.9395073887579224, 0.7739367933277495, 1.0147304004973705, 0.7717931600381167, 1.117865027869135, 1.0154439773192736, 1.1450236058054915, 1.482976870211827, 0.9965334885575945], \"yaxis\": \"y\"}],\n",
       "                        {\"legend\": {\"tracegroupgap\": 0}, \"template\": {\"data\": {\"bar\": [{\"error_x\": {\"color\": \"#2a3f5f\"}, \"error_y\": {\"color\": \"#2a3f5f\"}, \"marker\": {\"line\": {\"color\": \"#E5ECF6\", \"width\": 0.5}}, \"type\": \"bar\"}], \"barpolar\": [{\"marker\": {\"line\": {\"color\": \"#E5ECF6\", \"width\": 0.5}}, \"type\": \"barpolar\"}], \"carpet\": [{\"aaxis\": {\"endlinecolor\": \"#2a3f5f\", \"gridcolor\": \"white\", \"linecolor\": \"white\", \"minorgridcolor\": \"white\", \"startlinecolor\": \"#2a3f5f\"}, \"baxis\": {\"endlinecolor\": \"#2a3f5f\", \"gridcolor\": \"white\", \"linecolor\": \"white\", \"minorgridcolor\": \"white\", \"startlinecolor\": \"#2a3f5f\"}, \"type\": \"carpet\"}], \"choropleth\": [{\"colorbar\": {\"outlinewidth\": 0, \"ticks\": \"\"}, \"type\": \"choropleth\"}], \"contour\": [{\"colorbar\": {\"outlinewidth\": 0, \"ticks\": \"\"}, \"colorscale\": [[0.0, \"#0d0887\"], [0.1111111111111111, \"#46039f\"], [0.2222222222222222, \"#7201a8\"], [0.3333333333333333, \"#9c179e\"], [0.4444444444444444, \"#bd3786\"], [0.5555555555555556, \"#d8576b\"], [0.6666666666666666, \"#ed7953\"], [0.7777777777777778, \"#fb9f3a\"], [0.8888888888888888, \"#fdca26\"], [1.0, \"#f0f921\"]], \"type\": \"contour\"}], \"contourcarpet\": [{\"colorbar\": {\"outlinewidth\": 0, \"ticks\": \"\"}, \"type\": \"contourcarpet\"}], \"heatmap\": [{\"colorbar\": {\"outlinewidth\": 0, \"ticks\": \"\"}, \"colorscale\": [[0.0, \"#0d0887\"], [0.1111111111111111, \"#46039f\"], [0.2222222222222222, \"#7201a8\"], [0.3333333333333333, \"#9c179e\"], [0.4444444444444444, \"#bd3786\"], [0.5555555555555556, \"#d8576b\"], [0.6666666666666666, \"#ed7953\"], [0.7777777777777778, \"#fb9f3a\"], [0.8888888888888888, \"#fdca26\"], [1.0, \"#f0f921\"]], \"type\": \"heatmap\"}], \"heatmapgl\": [{\"colorbar\": {\"outlinewidth\": 0, \"ticks\": \"\"}, \"colorscale\": [[0.0, \"#0d0887\"], [0.1111111111111111, \"#46039f\"], [0.2222222222222222, \"#7201a8\"], [0.3333333333333333, \"#9c179e\"], [0.4444444444444444, \"#bd3786\"], [0.5555555555555556, \"#d8576b\"], [0.6666666666666666, \"#ed7953\"], [0.7777777777777778, \"#fb9f3a\"], [0.8888888888888888, \"#fdca26\"], [1.0, \"#f0f921\"]], \"type\": \"heatmapgl\"}], \"histogram\": [{\"marker\": {\"colorbar\": {\"outlinewidth\": 0, \"ticks\": \"\"}}, \"type\": \"histogram\"}], \"histogram2d\": [{\"colorbar\": {\"outlinewidth\": 0, \"ticks\": \"\"}, \"colorscale\": [[0.0, \"#0d0887\"], [0.1111111111111111, \"#46039f\"], [0.2222222222222222, \"#7201a8\"], [0.3333333333333333, \"#9c179e\"], [0.4444444444444444, \"#bd3786\"], [0.5555555555555556, \"#d8576b\"], [0.6666666666666666, \"#ed7953\"], [0.7777777777777778, \"#fb9f3a\"], [0.8888888888888888, \"#fdca26\"], [1.0, \"#f0f921\"]], \"type\": \"histogram2d\"}], \"histogram2dcontour\": [{\"colorbar\": {\"outlinewidth\": 0, \"ticks\": \"\"}, \"colorscale\": [[0.0, \"#0d0887\"], [0.1111111111111111, \"#46039f\"], [0.2222222222222222, \"#7201a8\"], [0.3333333333333333, \"#9c179e\"], [0.4444444444444444, \"#bd3786\"], [0.5555555555555556, \"#d8576b\"], [0.6666666666666666, \"#ed7953\"], [0.7777777777777778, \"#fb9f3a\"], [0.8888888888888888, \"#fdca26\"], [1.0, \"#f0f921\"]], \"type\": \"histogram2dcontour\"}], \"mesh3d\": [{\"colorbar\": {\"outlinewidth\": 0, \"ticks\": \"\"}, \"type\": \"mesh3d\"}], \"parcoords\": [{\"line\": {\"colorbar\": {\"outlinewidth\": 0, \"ticks\": \"\"}}, \"type\": \"parcoords\"}], \"pie\": [{\"automargin\": true, \"type\": \"pie\"}], \"scatter\": [{\"marker\": {\"colorbar\": {\"outlinewidth\": 0, \"ticks\": \"\"}}, \"type\": \"scatter\"}], \"scatter3d\": [{\"line\": {\"colorbar\": {\"outlinewidth\": 0, \"ticks\": \"\"}}, \"marker\": {\"colorbar\": {\"outlinewidth\": 0, \"ticks\": \"\"}}, \"type\": \"scatter3d\"}], \"scattercarpet\": [{\"marker\": {\"colorbar\": {\"outlinewidth\": 0, \"ticks\": \"\"}}, \"type\": \"scattercarpet\"}], \"scattergeo\": [{\"marker\": {\"colorbar\": {\"outlinewidth\": 0, \"ticks\": \"\"}}, \"type\": \"scattergeo\"}], \"scattergl\": [{\"marker\": {\"colorbar\": {\"outlinewidth\": 0, \"ticks\": \"\"}}, \"type\": \"scattergl\"}], \"scattermapbox\": [{\"marker\": {\"colorbar\": {\"outlinewidth\": 0, \"ticks\": \"\"}}, \"type\": \"scattermapbox\"}], \"scatterpolar\": [{\"marker\": {\"colorbar\": {\"outlinewidth\": 0, \"ticks\": \"\"}}, \"type\": \"scatterpolar\"}], \"scatterpolargl\": [{\"marker\": {\"colorbar\": {\"outlinewidth\": 0, \"ticks\": \"\"}}, \"type\": \"scatterpolargl\"}], \"scatterternary\": [{\"marker\": {\"colorbar\": {\"outlinewidth\": 0, \"ticks\": \"\"}}, \"type\": \"scatterternary\"}], \"surface\": [{\"colorbar\": {\"outlinewidth\": 0, \"ticks\": \"\"}, \"colorscale\": [[0.0, \"#0d0887\"], [0.1111111111111111, \"#46039f\"], [0.2222222222222222, \"#7201a8\"], [0.3333333333333333, \"#9c179e\"], [0.4444444444444444, \"#bd3786\"], [0.5555555555555556, \"#d8576b\"], [0.6666666666666666, \"#ed7953\"], [0.7777777777777778, \"#fb9f3a\"], [0.8888888888888888, \"#fdca26\"], [1.0, \"#f0f921\"]], \"type\": \"surface\"}], \"table\": [{\"cells\": {\"fill\": {\"color\": \"#EBF0F8\"}, \"line\": {\"color\": \"white\"}}, \"header\": {\"fill\": {\"color\": \"#C8D4E3\"}, \"line\": {\"color\": \"white\"}}, \"type\": \"table\"}]}, \"layout\": {\"annotationdefaults\": {\"arrowcolor\": \"#2a3f5f\", \"arrowhead\": 0, \"arrowwidth\": 1}, \"coloraxis\": {\"colorbar\": {\"outlinewidth\": 0, \"ticks\": \"\"}}, \"colorscale\": {\"diverging\": [[0, \"#8e0152\"], [0.1, \"#c51b7d\"], [0.2, \"#de77ae\"], [0.3, \"#f1b6da\"], [0.4, \"#fde0ef\"], [0.5, \"#f7f7f7\"], [0.6, \"#e6f5d0\"], [0.7, \"#b8e186\"], [0.8, \"#7fbc41\"], [0.9, \"#4d9221\"], [1, \"#276419\"]], \"sequential\": [[0.0, \"#0d0887\"], [0.1111111111111111, \"#46039f\"], [0.2222222222222222, \"#7201a8\"], [0.3333333333333333, \"#9c179e\"], [0.4444444444444444, \"#bd3786\"], [0.5555555555555556, \"#d8576b\"], [0.6666666666666666, \"#ed7953\"], [0.7777777777777778, \"#fb9f3a\"], [0.8888888888888888, \"#fdca26\"], [1.0, \"#f0f921\"]], \"sequentialminus\": [[0.0, \"#0d0887\"], [0.1111111111111111, \"#46039f\"], [0.2222222222222222, \"#7201a8\"], [0.3333333333333333, \"#9c179e\"], [0.4444444444444444, \"#bd3786\"], [0.5555555555555556, \"#d8576b\"], [0.6666666666666666, \"#ed7953\"], [0.7777777777777778, \"#fb9f3a\"], [0.8888888888888888, \"#fdca26\"], [1.0, \"#f0f921\"]]}, \"colorway\": [\"#636efa\", \"#EF553B\", \"#00cc96\", \"#ab63fa\", \"#FFA15A\", \"#19d3f3\", \"#FF6692\", \"#B6E880\", \"#FF97FF\", \"#FECB52\"], \"font\": {\"color\": \"#2a3f5f\"}, \"geo\": {\"bgcolor\": \"white\", \"lakecolor\": \"white\", \"landcolor\": \"#E5ECF6\", \"showlakes\": true, \"showland\": true, \"subunitcolor\": \"white\"}, \"hoverlabel\": {\"align\": \"left\"}, \"hovermode\": \"closest\", \"mapbox\": {\"style\": \"light\"}, \"paper_bgcolor\": \"white\", \"plot_bgcolor\": \"#E5ECF6\", \"polar\": {\"angularaxis\": {\"gridcolor\": \"white\", \"linecolor\": \"white\", \"ticks\": \"\"}, \"bgcolor\": \"#E5ECF6\", \"radialaxis\": {\"gridcolor\": \"white\", \"linecolor\": \"white\", \"ticks\": \"\"}}, \"scene\": {\"xaxis\": {\"backgroundcolor\": \"#E5ECF6\", \"gridcolor\": \"white\", \"gridwidth\": 2, \"linecolor\": \"white\", \"showbackground\": true, \"ticks\": \"\", \"zerolinecolor\": \"white\"}, \"yaxis\": {\"backgroundcolor\": \"#E5ECF6\", \"gridcolor\": \"white\", \"gridwidth\": 2, \"linecolor\": \"white\", \"showbackground\": true, \"ticks\": \"\", \"zerolinecolor\": \"white\"}, \"zaxis\": {\"backgroundcolor\": \"#E5ECF6\", \"gridcolor\": \"white\", \"gridwidth\": 2, \"linecolor\": \"white\", \"showbackground\": true, \"ticks\": \"\", \"zerolinecolor\": \"white\"}}, \"shapedefaults\": {\"line\": {\"color\": \"#2a3f5f\"}}, \"ternary\": {\"aaxis\": {\"gridcolor\": \"white\", \"linecolor\": \"white\", \"ticks\": \"\"}, \"baxis\": {\"gridcolor\": \"white\", \"linecolor\": \"white\", \"ticks\": \"\"}, \"bgcolor\": \"#E5ECF6\", \"caxis\": {\"gridcolor\": \"white\", \"linecolor\": \"white\", \"ticks\": \"\"}}, \"title\": {\"x\": 0.05}, \"xaxis\": {\"automargin\": true, \"gridcolor\": \"white\", \"linecolor\": \"white\", \"ticks\": \"\", \"title\": {\"standoff\": 15}, \"zerolinecolor\": \"white\", \"zerolinewidth\": 2}, \"yaxis\": {\"automargin\": true, \"gridcolor\": \"white\", \"linecolor\": \"white\", \"ticks\": \"\", \"title\": {\"standoff\": 15}, \"zerolinecolor\": \"white\", \"zerolinewidth\": 2}}}, \"title\": {\"text\": \"Relationship between % of Chinese population and avg price ratio of condos(with and without eight)\"}, \"xaxis\": {\"anchor\": \"y\", \"domain\": [0.0, 1.0], \"title\": {\"text\": \"% of Chinese population by neighborhood\"}}, \"yaxis\": {\"anchor\": \"x\", \"domain\": [0.0, 1.0], \"title\": {\"text\": \"Ratio  by neighborhood\"}}},\n",
       "                        {\"responsive\": true}\n",
       "                    ).then(function(){\n",
       "                            \n",
       "var gd = document.getElementById('ede24df3-034a-46cc-a578-0f378b925978');\n",
       "var x = new MutationObserver(function (mutations, observer) {{\n",
       "        var display = window.getComputedStyle(gd).display;\n",
       "        if (!display || display === 'none') {{\n",
       "            console.log([gd, 'removed!']);\n",
       "            Plotly.purge(gd);\n",
       "            observer.disconnect();\n",
       "        }}\n",
       "}});\n",
       "\n",
       "// Listen for the removal of the full notebook cells\n",
       "var notebookContainer = gd.closest('#notebook-container');\n",
       "if (notebookContainer) {{\n",
       "    x.observe(notebookContainer, {childList: true});\n",
       "}}\n",
       "\n",
       "// Listen for the clearing of the current output cell\n",
       "var outputEl = gd.closest('.output');\n",
       "if (outputEl) {{\n",
       "    x.observe(outputEl, {childList: true});\n",
       "}}\n",
       "\n",
       "                        })\n",
       "                };\n",
       "                });\n",
       "            </script>\n",
       "        </div>"
      ]
     },
     "metadata": {},
     "output_type": "display_data"
    }
   ],
   "source": [
    "fig = px.scatter(eight, x=\"AsnChiNoTP_Mean\", y=\"ratio\", \n",
    "                hover_data=['NEIGHBORHOOD'],\n",
    "                labels={\n",
    "                     \"AsnChiNoTP_Mean\": \"% of Chinese population by neighborhood\",\n",
    "                     \"ratio\": \"Ratio  by neighborhood\",\n",
    "                 },\n",
    "                title=\"Relationship between % of Chinese population and avg price ratio of condos(with and without eight)\")\n",
    "fig.show()"
   ]
  },
  {
   "cell_type": "markdown",
   "metadata": {},
   "source": [
    "On the other hand, in neighborhoods with more Chinese population, condos with floor number ending in 8 have a slightly higher price than that ending without 8. "
   ]
  },
  {
   "cell_type": "code",
   "execution_count": 276,
   "metadata": {},
   "outputs": [
    {
     "data": {
      "image/png": "[encoded data removed]",
      "text/plain": [
       "<Figure size 1440x360 with 1 Axes>"
      ]
     },
     "metadata": {},
     "output_type": "display_data"
    }
   ],
   "source": [
    "plt.figure(figsize=(20,5))\n",
    "ax = sns.regplot( x=\"AsnChiNoTP_Mean\", y=\"ratio\", data=eight)\n",
    "# ax.set(ylim=(-0.4, 0.4))"
   ]
  },
  {
   "cell_type": "markdown",
   "metadata": {},
   "source": [
    "### Concerns"
   ]
  },
  {
   "cell_type": "markdown",
   "metadata": {},
   "source": [
    "- Price could be affected by many factors: ex. renovations, views, transportation..."
   ]
  },
  {
   "cell_type": "markdown",
   "metadata": {},
   "source": [
    "### Next Steps\n",
    "- Put data point on map, color each data point by median price and observe whether other factors influence property values.\n",
    "- Build a larger dataset with time seires to examine whether numeric superstitious beliefs have faded away.\n",
    "- Research numeric superstitious beliefs in other cultures."
   ]
  },
  {
   "cell_type": "code",
   "execution_count": null,
   "metadata": {},
   "outputs": [],
   "source": []
  }
 ],
 "metadata": {
  "kernelspec": {
   "display_name": "Python 3",
   "language": "python",
   "name": "python3"
  },
  "language_info": {
   "codemirror_mode": {
    "name": "ipython",
    "version": 3
   },
   "file_extension": ".py",
   "mimetype": "text/x-python",
   "name": "python",
   "nbconvert_exporter": "python",
   "pygments_lexer": "ipython3",
   "version": "3.7.6"
  }
 },
 "nbformat": 4,
 "nbformat_minor": 4
}
